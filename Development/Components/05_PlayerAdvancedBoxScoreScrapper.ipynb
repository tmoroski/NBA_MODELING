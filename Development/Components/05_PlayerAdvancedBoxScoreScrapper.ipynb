{
 "cells": [
  {
   "cell_type": "markdown",
   "metadata": {},
   "source": [
    "# Player Advanced Box Score Scrapper"
   ]
  },
  {
   "cell_type": "raw",
   "metadata": {},
   "source": [
    "\n",
    "Notebook READ ME\n",
    "\n",
    "This notebook is built to scrape advanced box score gamelogsfor specific players from basketall reference.com\n",
    "Example url and landing page for reference:\n",
    "https://www.basketball-reference.com/players/m/maxeyty01/gamelog-advanced/2024/\n",
    "\n",
    "The table div class name is subject to change every once in a while so this is a possible failure point\n",
    "\n",
    "In order for this notebook/function to work properly the 00_ProjectImports notebook and 01_UserAgentInformation notebook must be ran\n",
    "\n",
    "\n",
    "\n",
    "Notebook Create date - July 7th 2024\n",
    "Author - T. Moroski\n"
   ]
  },
  {
   "cell_type": "code",
   "execution_count": 4,
   "metadata": {},
   "outputs": [],
   "source": [
    "def playerAdvancedBoxScoreScraper(playerLink,season):  \n",
    "    '''\n",
    "    INPUTS\n",
    "    plLinkayer - (string input) Link that allows the tool to access the players advanced gamelogs webpage.\n",
    "                 the source for these links comes from the 04_PlayerURLScrapper notebook\n",
    "    season - (string input) This is a four character parameter yyyy\n",
    "    ----------------------------------------------------------------\n",
    "    OUTPUT\n",
    "    df - this data frame contains advanced box score game logs for specific players\n",
    "    '''\n",
    "    #Creating our url string to go fetch website data\n",
    "    url = playerLink +'/gamelog-advanced/'+season\n",
    "    #calling our user agent variables to create a request header\n",
    "    headers = {\"User-Agent\":user_agent}\n",
    "    #Initiating the web page and finding table contents\n",
    "    html = requests.get(url,headers=headers)\n",
    "    soup = BeautifulSoup(html.text, 'lxml')\n",
    "    table = soup.find('div', {'class':'table_wrapper'})\n",
    "    table_rows = table.find_all('tr')\n",
    "    df = pd.DataFrame(pd.read_html(str(table))[0])\n",
    "    #Renamib the unnamed column headers\n",
    "    df.rename(columns={ \n",
    "                        'Unnamed: 5':\"Location\"\n",
    "                       ,'Unnamed: 7':\"Result\"\n",
    "\n",
    "\n",
    "                       }, inplace = True\n",
    "              )\n",
    "    df[\"Location\"].fillna(\"VS\", inplace = True)\n",
    "    df = df[df.MP != 'Did Not Dress']\n",
    "    df = df[df.MP != 'Inactive']\n",
    "    df = df[df.MP != 'MP']\n",
    "    df = df[df.MP != 'Not With Team']\n",
    "    df = df[df.MP != 'Did Not Play']\n",
    "    df = df[df.MP != 'Player Suspended']\n",
    "    df['NBA_ReferencePlayerKey'] = playerLink[47:]\n",
    "    #df['NBA_ReferencePlayerKey'][47:]\n",
    "    return df"
   ]
  },
  {
   "cell_type": "code",
   "execution_count": 16,
   "metadata": {},
   "outputs": [],
   "source": [
    "#Example function call\n",
    "#df = playerAdvancedBoxScoreScraper('https://www.basketball-reference.com/players/e/embiijo01','2024')"
   ]
  },
  {
   "cell_type": "code",
   "execution_count": null,
   "metadata": {},
   "outputs": [],
   "source": [
    "#%run ../Componenets/00_ProjectImports.ipynb\n",
    "#%run ../Componenets/01_UserAgentInformation.ipynb"
   ]
  },
  {
   "cell_type": "code",
   "execution_count": null,
   "metadata": {},
   "outputs": [],
   "source": []
  },
  {
   "cell_type": "code",
   "execution_count": null,
   "metadata": {},
   "outputs": [],
   "source": []
  },
  {
   "cell_type": "code",
   "execution_count": null,
   "metadata": {},
   "outputs": [],
   "source": [
    "\n"
   ]
  },
  {
   "cell_type": "code",
   "execution_count": null,
   "metadata": {},
   "outputs": [],
   "source": []
  },
  {
   "cell_type": "code",
   "execution_count": null,
   "metadata": {},
   "outputs": [],
   "source": []
  }
 ],
 "metadata": {
  "kernelspec": {
   "display_name": "Python 3",
   "language": "python",
   "name": "python3"
  },
  "language_info": {
   "codemirror_mode": {
    "name": "ipython",
    "version": 3
   },
   "file_extension": ".py",
   "mimetype": "text/x-python",
   "name": "python",
   "nbconvert_exporter": "python",
   "pygments_lexer": "ipython3",
   "version": "3.7.3"
  }
 },
 "nbformat": 4,
 "nbformat_minor": 4
}
