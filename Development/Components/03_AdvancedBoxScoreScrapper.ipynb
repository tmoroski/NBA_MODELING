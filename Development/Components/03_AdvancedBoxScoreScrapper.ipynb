{
 "cells": [
  {
   "cell_type": "markdown",
   "metadata": {},
   "source": [
    "# Advanced Box Score Scrapper (Team Level)"
   ]
  },
  {
   "cell_type": "raw",
   "metadata": {},
   "source": [
    "\n",
    "Notebook READ ME\n",
    "\n",
    "This notebook is built to scrape advanced box score gamelogs from basketall reference.com\n",
    "Example url and landing page for reference:\n",
    "https://www.basketball-reference.com/teams/PHI/2024/gamelog-advanced/\n",
    "\n",
    "The table div class name is subject to change every once in a while so this is a possible failure point\n",
    "\n",
    "In order for this notebook/function to work properly the 00_ProjectImports notebook and 01_UserAgentInformation notebook must be ran\n",
    "\n",
    "\n",
    "\n",
    "Notebook Create date - July 5th 2024\n",
    "Author - T. Moroski\n"
   ]
  },
  {
   "cell_type": "code",
   "execution_count": 2,
   "metadata": {},
   "outputs": [
    {
     "name": "stderr",
     "output_type": "stream",
     "text": [
      "/Users/tmoroski/anaconda3/lib/python3.7/site-packages/requests/__init__.py:91: RequestsDependencyWarning: urllib3 (1.26.16) or chardet (3.0.4) doesn't match a supported version!\n",
      "  RequestsDependencyWarning)\n"
     ]
    }
   ],
   "source": [
    "#%run ../Componenets/00_ProjectImports.ipynb\n",
    "#%run ../Componenets/01_UserAgentInformation.ipynb"
   ]
  },
  {
   "cell_type": "code",
   "execution_count": 3,
   "metadata": {},
   "outputs": [],
   "source": [
    "def advancedBoxScoreScraper(team,season):  \n",
    "    '''\n",
    "    INPUTS\n",
    "    team - (string input) nba basketball team abbreviation, This should come from the TeamAbbreviation notebook\n",
    "    season - (string input) This is a four character parameter yyyy\n",
    "    ----------------------------------------------------------------\n",
    "    OUTPUT\n",
    "    df - this data frame contains advanced box score game logs\n",
    "    '''\n",
    "    #Creating our url string to go fetch website data\n",
    "    url = 'https://www.basketball-reference.com/teams/'+team+'/'+season+'/gamelog-advanced/'\n",
    "    #calling our user agent variables to create a request header\n",
    "    headers = {\"User-Agent\":user_agent}\n",
    "    #Initiating the web page and finding table contents\n",
    "    html = requests.get(url,headers=headers)\n",
    "    soup = BeautifulSoup(html.text, 'lxml')\n",
    "    table = soup.find('div', {'class':'table_wrapper'})\n",
    "    table_rows = table.find_all('tr')\n",
    "    df = pd.DataFrame(pd.read_html(str(table))[0])\n",
    "    #Creating our feature based on the offensive/defensive four factors categories\n",
    "    df['Offensive_EFG']=df[('Offensive Four Factors',                'eFG%')]\n",
    "    df['Defensive_EFG']=df[('Defensive Four Factors',                'eFG%')]\n",
    "    df['Offensive_TurnOver_Rate'] = df[('Offensive Four Factors',                'TOV%')]\n",
    "    df['Defensive_TurnOver_Rate'] = df[('Defensive Four Factors',                'TOV%')]\n",
    "    df['Offensive_Rebounding_Rate'] = df[('Offensive Four Factors',                'ORB%')]\n",
    "    df['Defensive_Rebounding_Rate'] = df[('Defensive Four Factors',                'DRB%')]\n",
    "    #Creating our features based on the advanced categories\n",
    "    df['OffensiveRating']=df[('Advanced',                'ORtg')]\n",
    "    df['DefensiveRating']=df[('Advanced',                'DRtg')]\n",
    "    df['Pace']=df[('Advanced',                'Pace')]\n",
    "    df['FreeThrowAttemptRate']=df[('Advanced',                'FTr')]\n",
    "    df['ThreePointAttemptRate']=df[('Advanced',                '3PAr')]\n",
    "    df['TrueShootingRate']=df[('Advanced',                'TS%')]\n",
    "    # Score attributes\n",
    "    df['Result']=df[('Score',                'Result')]\n",
    "    df['Team_Score']=df[('Score',                'Tm')]\n",
    "    df['Opponent_Score']=df[('Score',                'Opp')]\n",
    "    #Elimiating the fake column header row\n",
    "    df.columns = df.columns.droplevel(1)\n",
    "    #Renamib the unnamed column headers\n",
    "    df.rename(columns={ 'Unnamed: 0_level_0': \"Rank\"\n",
    "                       ,'Unnamed: 1_level_0': \"Game\"\n",
    "                       ,'Unnamed: 2_level_0': \"Date\"\n",
    "                        ,'Unnamed: 3_level_0':'Location'\n",
    "                       ,'Unnamed: 4_level_0':'Opponent'\n",
    "                     #   ,'Unnamed: 5_level_0':\"Result\"\n",
    "                     #  ,'Unnamed: 6_level_0':\"Team_Score\"\n",
    "                     #  ,'Unnamed: 7_level_0':\"Opponent_Score\"\n",
    "\n",
    "                       }, inplace = True\n",
    "              )\n",
    "    #The target table is defaulted to be broken out into pieces so every x rows, the column headers re appear\n",
    "    # th next two lines remove this fake column header collumns\n",
    "    df = df[df['Opponent'].notnull()]\n",
    "    df = df[df.Opponent != 'Opp']\n",
    "    df['Team'] = str(team)\n",
    "    #The next list is making sure we are only keeping the data fields we care about\n",
    "    df = df[[\n",
    "            'Game',\n",
    "            'Date',\n",
    "            'Location',\n",
    "            'Team',\n",
    "            'Opponent',\n",
    "            'Result',\n",
    "            'Team_Score',\n",
    "            'Opponent_Score',\n",
    "            'Offensive_EFG',\n",
    "            'Defensive_EFG',\n",
    "            'Offensive_TurnOver_Rate',\n",
    "            'Defensive_TurnOver_Rate',\n",
    "            'Offensive_Rebounding_Rate',\n",
    "            'Defensive_Rebounding_Rate',\n",
    "            'OffensiveRating',\n",
    "            'DefensiveRating',\n",
    "            'Pace',\n",
    "            'FreeThrowAttemptRate',\n",
    "            'ThreePointAttemptRate',\n",
    "            'TrueShootingRate'\n",
    "            ]]\n",
    "    df[\"Location\"].fillna(\"VS\", inplace = True)\n",
    "    return df"
   ]
  },
  {
   "cell_type": "code",
   "execution_count": null,
   "metadata": {},
   "outputs": [],
   "source": []
  },
  {
   "cell_type": "code",
   "execution_count": 3,
   "metadata": {},
   "outputs": [],
   "source": []
  },
  {
   "cell_type": "code",
   "execution_count": null,
   "metadata": {},
   "outputs": [],
   "source": []
  },
  {
   "cell_type": "code",
   "execution_count": null,
   "metadata": {},
   "outputs": [],
   "source": [
    "\n"
   ]
  },
  {
   "cell_type": "code",
   "execution_count": null,
   "metadata": {},
   "outputs": [],
   "source": []
  },
  {
   "cell_type": "code",
   "execution_count": null,
   "metadata": {},
   "outputs": [],
   "source": []
  }
 ],
 "metadata": {
  "kernelspec": {
   "display_name": "Python [conda env:base] *",
   "language": "python",
   "name": "conda-base-py"
  },
  "language_info": {
   "codemirror_mode": {
    "name": "ipython",
    "version": 3
   },
   "file_extension": ".py",
   "mimetype": "text/x-python",
   "name": "python",
   "nbconvert_exporter": "python",
   "pygments_lexer": "ipython3",
   "version": "3.12.7"
  }
 },
 "nbformat": 4,
 "nbformat_minor": 4
}
