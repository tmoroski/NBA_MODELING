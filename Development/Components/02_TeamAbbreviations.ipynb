{
 "cells": [
  {
   "cell_type": "markdown",
   "metadata": {},
   "source": [
    "# NBA Reference Team Abbreviations"
   ]
  },
  {
   "cell_type": "code",
   "execution_count": null,
   "metadata": {},
   "outputs": [],
   "source": [
    "nbaTeamList = [\n",
    "            'MIL','TOR','BOS','IND'\n",
    "           ,'MIA','PHI','BRK','ORL'\n",
    "           ,'CHO','WAS','CHI','NYK'\n",
    "           ,'DET','ATL','CLE','LAL'\n",
    "           ,'LAC','DEN','HOU','OKC'\n",
    "           ,'UTA','DAL','POR','MEM'\n",
    "           ,'PHO','SAS','SAC','NOP'\n",
    "           ,'MIN','GSW'\n",
    "           ]"
   ]
  }
 ],
 "metadata": {
  "kernelspec": {
   "display_name": "Python 3",
   "language": "python",
   "name": "python3"
  },
  "language_info": {
   "codemirror_mode": {
    "name": "ipython",
    "version": 3
   },
   "file_extension": ".py",
   "mimetype": "text/x-python",
   "name": "python",
   "nbconvert_exporter": "python",
   "pygments_lexer": "ipython3",
   "version": "3.7.3"
  }
 },
 "nbformat": 4,
 "nbformat_minor": 4
}
