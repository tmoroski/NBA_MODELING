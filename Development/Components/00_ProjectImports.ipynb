{
 "cells": [
  {
   "cell_type": "markdown",
   "metadata": {},
   "source": [
    "# Project Imports"
   ]
  },
  {
   "cell_type": "code",
   "execution_count": 4,
   "metadata": {},
   "outputs": [],
   "source": [
    "#imports\n",
    "import pandas as pd\n",
    "import numpy as np\n",
    "import requests\n",
    "from urllib.request import urlopen\n",
    "from bs4 import BeautifulSoup\n",
    "import random as rnd\n",
    "from random_user_agent.user_agent import UserAgent\n",
    "from random_user_agent.params import SoftwareName, OperatingSystem\n",
    "import time\n",
    "from tqdm import tqdm\n",
    "from sklearn.model_selection import train_test_split \n",
    "from sklearn.linear_model import LinearRegression\n",
    "#import xgboost as xgb\n",
    "from pandasql import sqldf\n",
    "import sys\n",
    "import warnings\n",
    "\n",
    "if not sys.warnoptions:\n",
    "    warnings.simplefilter(\"ignore\")"
   ]
  },
  {
   "cell_type": "code",
   "execution_count": 9,
   "metadata": {},
   "outputs": [],
   "source": [
    "#software_names = [SoftwareName.FIREFOX.value]\n",
    "#operating_systems = [OperatingSystem.MAC.value, OperatingSystem.MAC.value]\n",
    "#user_agent_rotator = UserAgent(software_names=software_names, operating_systems=operating_systems, limit=30)\n",
    "#user_agent = user_agent_rotator.get_random_user_agent()"
   ]
  },
  {
   "cell_type": "code",
   "execution_count": 24,
   "metadata": {},
   "outputs": [],
   "source": [
    "#Creating our url string to go fetch website data\n",
    "#url = 'https://www.basketball-reference.com/teams/BOS/2024/gamelog/'\n",
    "#calling our user agent variables to create a request header\n",
    "#headers = {\"User-Agent\":user_agent}\n",
    "#Initiating the web page and finding table contents\n",
    "#html = requests.get(url,headers=headers)\n",
    "#soup = BeautifulSoup(html.text, 'lxml')\n",
    "#table = soup.find('div', {'class':'table_wrapper'})\n",
    "#table_rows = table.find_all('tr')\n",
    "#df = pd.DataFrame(pd.read_html(str(table))[0])"
   ]
  },
  {
   "cell_type": "code",
   "execution_count": 22,
   "metadata": {},
   "outputs": [],
   "source": [
    "#df"
   ]
  },
  {
   "cell_type": "code",
   "execution_count": null,
   "metadata": {},
   "outputs": [],
   "source": []
  }
 ],
 "metadata": {
  "kernelspec": {
   "display_name": "Python [conda env:base] *",
   "language": "python",
   "name": "conda-base-py"
  },
  "language_info": {
   "codemirror_mode": {
    "name": "ipython",
    "version": 3
   },
   "file_extension": ".py",
   "mimetype": "text/x-python",
   "name": "python",
   "nbconvert_exporter": "python",
   "pygments_lexer": "ipython3",
   "version": "3.12.7"
  }
 },
 "nbformat": 4,
 "nbformat_minor": 4
}
