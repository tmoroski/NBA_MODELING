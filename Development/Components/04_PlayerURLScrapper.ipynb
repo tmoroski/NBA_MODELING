{
 "cells": [
  {
   "cell_type": "markdown",
   "metadata": {},
   "source": [
    "# NBA Player Webpage URL Scrapper"
   ]
  },
  {
   "cell_type": "raw",
   "metadata": {},
   "source": [
    "\n",
    "Notebook READ ME\n",
    "\n",
    "This notebook is built to scrape NBA player webpage URLs from basketall reference.com\n",
    "Example url and landing page for reference:\n",
    "https://www.basketball-reference.com/teams/PHI/2024.html\n",
    "\n",
    "The table div class name is subject to change every once in a while so this is a possible failure point\n",
    "\n",
    "In order for this notebook/function to work properly the 00_ProjectImports notebook and 01_UserAgentInformation notebook must be ran\n",
    "\n",
    "\n",
    "\n",
    "Notebook Create date - July 7th 2024\n",
    "Author - T. Moroski\n"
   ]
  },
  {
   "cell_type": "code",
   "execution_count": 99,
   "metadata": {},
   "outputs": [],
   "source": [
    "def playerWebPageLinkScraper(team,season):  \n",
    "    '''\n",
    "    INPUTS\n",
    "    team - (string input) nba basketball team abbreviation, This should come from the TeamAbbreviation notebook\n",
    "    season - (string input) This is a four character parameter yyyy\n",
    "    ----------------------------------------------------------------\n",
    "    OUTPUT\n",
    "    filteredList - This list consists of the url links that direct the user to the player webpage where their stats can be found\n",
    "    '''\n",
    "    #Creating our url string that directs us to the team roster webpage\n",
    "    url = 'https://www.basketball-reference.com/teams/'+team+'/'+season+'.html'\n",
    "    #calling our user agent variables to create a request header\n",
    "    headers = {\"User-Agent\":user_agent}\n",
    "    #Initiating the web page and finding table contents\n",
    "    html = requests.get(url,headers=headers)\n",
    "    soup = BeautifulSoup(html.text, 'lxml')\n",
    "    arefList = soup.findAll('a')\n",
    "    filteredList = []\n",
    "    for link in arefList:\n",
    "        if '/players/' in str(link):\n",
    "            if '.html' in str(link):\n",
    "                if 'title' not in str(link):\n",
    "                    cleanedString = str(link).replace('\"','*')\n",
    "                    cleanedString = cleanedString.split('*')[1]\n",
    "                    cleanedString = 'https://www.basketball-reference.com'+ cleanedString\n",
    "                    cleanedString = cleanedString[:-5]\n",
    "                    filteredList.append(cleanedString)\n",
    "    filteredList = list(set(filteredList))\n",
    "    return filteredList"
   ]
  },
  {
   "cell_type": "code",
   "execution_count": 100,
   "metadata": {},
   "outputs": [],
   "source": [
    "#phiList = playerWebPageLinkScraper('PHI','2024')\n",
    "#%run ../Componenets/00_ProjectImports.ipynb\n",
    "#%run ../Componenets/01_UserAgentInformation.ipynb"
   ]
  },
  {
   "cell_type": "code",
   "execution_count": 102,
   "metadata": {},
   "outputs": [],
   "source": [
    "#phiList"
   ]
  },
  {
   "cell_type": "code",
   "execution_count": null,
   "metadata": {},
   "outputs": [],
   "source": []
  },
  {
   "cell_type": "code",
   "execution_count": null,
   "metadata": {},
   "outputs": [],
   "source": []
  },
  {
   "cell_type": "code",
   "execution_count": null,
   "metadata": {},
   "outputs": [],
   "source": [
    "\n"
   ]
  },
  {
   "cell_type": "code",
   "execution_count": null,
   "metadata": {},
   "outputs": [],
   "source": []
  },
  {
   "cell_type": "code",
   "execution_count": null,
   "metadata": {},
   "outputs": [],
   "source": []
  }
 ],
 "metadata": {
  "kernelspec": {
   "display_name": "Python 3",
   "language": "python",
   "name": "python3"
  },
  "language_info": {
   "codemirror_mode": {
    "name": "ipython",
    "version": 3
   },
   "file_extension": ".py",
   "mimetype": "text/x-python",
   "name": "python",
   "nbconvert_exporter": "python",
   "pygments_lexer": "ipython3",
   "version": "3.7.3"
  }
 },
 "nbformat": 4,
 "nbformat_minor": 4
}
