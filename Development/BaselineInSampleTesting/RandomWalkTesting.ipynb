{
 "cells": [
  {
   "cell_type": "markdown",
   "metadata": {},
   "source": [
    "# Random Walk Testing (Linear Regression) - Small Scale"
   ]
  },
  {
   "cell_type": "code",
   "execution_count": 1,
   "metadata": {},
   "outputs": [],
   "source": [
    "# Library Imports\n",
    "import pandas as pd\n",
    "import numpy as np\n",
    "import seaborn as sns\n",
    "from sklearn.linear_model import LinearRegression\n",
    "from sklearn.model_selection import train_test_split\n",
    "import statistics\n",
    "from tqdm import tqdm\n",
    "import random\n",
    "import warnings\n",
    "import sys\n",
    "if not sys.warnoptions:\n",
    "    warnings.simplefilter(\"ignore\")"
   ]
  },
  {
   "cell_type": "markdown",
   "metadata": {},
   "source": [
    "### DataFrame Load & Munging"
   ]
  },
  {
   "cell_type": "code",
   "execution_count": 4,
   "metadata": {},
   "outputs": [],
   "source": [
    "#Loading our team level regular box score dataframe\n",
    "regularBoxScoreDF = pd.read_excel('../DataScience_Pipeline/RawDataFiles/teamRegularBoxScoreGamelogs.xlsx')\n",
    "#Loading our team level advanced box score dataframe\n",
    "advancedBoxScoreDF = pd.read_excel('../DataScience_Pipeline/RawDataFiles/teamAdvancedBoxScoreGamelogs.xlsx')"
   ]
  },
  {
   "cell_type": "code",
   "execution_count": 8,
   "metadata": {},
   "outputs": [],
   "source": [
    "# Subtracting fields from our regular box score dataframe that we dont need\n",
    "regularBoxScoreDF = regularBoxScoreDF[[\n",
    "    'Date',\n",
    "    'Team',\n",
    "    'Team_Points'\n",
    "    \n",
    "]]\n",
    "# Subtracting fields from our advanced box score dataframe that we dont need\n",
    "advancedBoxScoreDF = advancedBoxScoreDF[[\n",
    "    'Date',\n",
    "    'Team',\n",
    "    'Pace',\n",
    "    'Offensive_EFG',\n",
    "    'OffensiveRating',\n",
    "    'TrueShootingRate'\n",
    "    \n",
    "]]\n",
    "\n",
    "# Team 1 DataFrame Join\n",
    "Merged_df = pd.merge(regularBoxScoreDF, advancedBoxScoreDF, on=['Date','Team'], how='left')\n",
    "#Below line commented out for larger scale testing\n",
    "#Merged_df = Merged_df[Merged_df['Team']=='BOS']\n",
    "\n",
    "predictors = [\n",
    "      \n",
    "                'Pace',\n",
    "                'Offensive_EFG',\n",
    "                'OffensiveRating',\n",
    "                'TrueShootingRate'    \n",
    "            ]"
   ]
  },
  {
   "cell_type": "code",
   "execution_count": 10,
   "metadata": {},
   "outputs": [],
   "source": [
    "TrainingData = Merged_df[Merged_df['Date']<'2024-10-26']\n"
   ]
  },
  {
   "cell_type": "markdown",
   "metadata": {},
   "source": [
    "### NBA Team Testing"
   ]
  },
  {
   "cell_type": "code",
   "execution_count": 40,
   "metadata": {},
   "outputs": [],
   "source": [
    "# Creating a list of game dates for PHI\n",
    "\n",
    "# Season 2024 filter\n",
    "#TargetDayList = Merged_df[Merged_df['Date']>'2023-10-26']['Date'].to_list()\n",
    "# Season 2023 filter\n",
    "#TargetDayList = Merged_df[(Merged_df['Date']>='2022-10-26') & (Merged_df['Date']<'2023-10-26')]['Date'].to_list()\n",
    "\n",
    "# Season 2022 filter\n",
    "#TargetDayList = Merged_df[(Merged_df['Date']>='2021-10-26') & (Merged_df['Date']<'2022-10-26')]['Date'].to_list()"
   ]
  },
  {
   "cell_type": "code",
   "execution_count": 12,
   "metadata": {},
   "outputs": [],
   "source": [
    "predictionMean = []\n",
    "DateList = []\n",
    "TeamList = []\n",
    "TeamPointsList = []\n",
    "\n",
    "\n",
    "TestList = [\n",
    "            'MIL','TOR','BOS','IND'\n",
    "           ,'MIA','PHI','BRK','ORL'\n",
    "           ,'CHO','WAS','CHI','NYK'\n",
    "           ,'DET','ATL','CLE','LAL'\n",
    "           ,'LAC','DEN','HOU','OKC'\n",
    "           ,'UTA','DAL','POR','MEM'\n",
    "           ,'PHO','SAS','SAC','NOP'\n",
    "           ,'MIN','GSW'\n",
    "           ]"
   ]
  },
  {
   "cell_type": "code",
   "execution_count": 44,
   "metadata": {},
   "outputs": [
    {
     "name": "stderr",
     "output_type": "stream",
     "text": [
      "100%|██████████| 30/30 [1:33:16<00:00, 186.56s/it]\n"
     ]
    }
   ],
   "source": [
    "for team in tqdm(TestList):\n",
    "    TestingDataset_df = Merged_df[Merged_df['Team']==team]\n",
    "    TargetDayList = TestingDataset_df[(TestingDataset_df['Date']>='2024-10-26') & (TestingDataset_df['Date']<'2025-10-26')]['Date'].to_list()\n",
    "    for day in TargetDayList:\n",
    "        TargetFrameForBinning = TestingDataset_df[TestingDataset_df['Date'] < day].tail(7)\n",
    "        histTS, binsTS = np.histogram(TargetFrameForBinning['TrueShootingRate'], bins=10)\n",
    "        histPace, binsPace = np.histogram(TargetFrameForBinning['Pace'], bins=10)\n",
    "        histEFG, binsEFG = np.histogram(TargetFrameForBinning['Offensive_EFG'], bins=10)\n",
    "        histRATE, binsRATE = np.histogram(TargetFrameForBinning['OffensiveRating'], bins=10)\n",
    "\n",
    "        randomListTrue =[]\n",
    "        randomListPace =[]\n",
    "        randomListEFG =[]\n",
    "        randomListRate =[]\n",
    "\n",
    "        for x in range(histTS[0]):\n",
    "            randomListTrue.append(random.uniform(binsTS[0],binsTS[1]))   \n",
    "        for x in range(histTS[1]):\n",
    "            randomListTrue.append(random.uniform(binsTS[1],binsTS[2]))   \n",
    "        for x in range(histTS[2]):\n",
    "            randomListTrue.append(random.uniform(binsTS[2],binsTS[3]))   \n",
    "        for x in range(histTS[3]):\n",
    "            randomListTrue.append(random.uniform(binsTS[3],binsTS[4]))   \n",
    "        for x in range(histTS[4]):\n",
    "            randomListTrue.append(random.uniform(binsTS[4],binsTS[5]))   \n",
    "        for x in range(histTS[5]):\n",
    "            randomListTrue.append(random.uniform(binsTS[5],binsTS[6]))   \n",
    "        for x in range(histTS[6]):\n",
    "            randomListTrue.append(random.uniform(binsTS[6],binsTS[7]))\n",
    "        for x in range(histTS[7]):\n",
    "            randomListTrue.append(random.uniform(binsTS[7],binsTS[8]))\n",
    "        for x in range(histTS[8]):\n",
    "            randomListTrue.append(random.uniform(binsTS[8],binsTS[9]))   \n",
    "        for x in range(histTS[9]):\n",
    "            randomListTrue.append(random.uniform(binsTS[9],binsTS[10]))\n",
    "\n",
    "        for x in range(histPace[0]):\n",
    "            randomListPace.append(random.uniform(binsPace[0],binsPace[1]))   \n",
    "        for x in range(histPace[1]):\n",
    "            randomListPace.append(random.uniform(binsPace[1],binsPace[2]))   \n",
    "        for x in range(histPace[2]):\n",
    "            randomListPace.append(random.uniform(binsPace[2],binsPace[3]))   \n",
    "        for x in range(histPace[3]):\n",
    "            randomListPace.append(random.uniform(binsPace[3],binsPace[4]))   \n",
    "        for x in range(histPace[4]):\n",
    "            randomListPace.append(random.uniform(binsPace[4],binsPace[5]))   \n",
    "        for x in range(histPace[5]):\n",
    "            randomListPace.append(random.uniform(binsPace[5],binsPace[6]))   \n",
    "        for x in range(histPace[6]):\n",
    "            randomListPace.append(random.uniform(binsPace[6],binsPace[7]))\n",
    "        for x in range(histPace[7]):\n",
    "            randomListPace.append(random.uniform(binsPace[7],binsPace[8]))\n",
    "        for x in range(histPace[8]):\n",
    "            randomListPace.append(random.uniform(binsPace[8],binsPace[9]))   \n",
    "        for x in range(histPace[9]):\n",
    "            randomListPace.append(random.uniform(binsPace[9],binsPace[10]))      \n",
    "\n",
    "        for x in range(histEFG[0]):\n",
    "            randomListEFG.append(random.uniform(binsEFG[0],binsEFG[1]))   \n",
    "        for x in range(histEFG[1]):\n",
    "            randomListEFG.append(random.uniform(binsEFG[1],binsEFG[2]))   \n",
    "        for x in range(histEFG[2]):\n",
    "            randomListEFG.append(random.uniform(binsEFG[2],binsEFG[3]))   \n",
    "        for x in range(histEFG[3]):\n",
    "            randomListEFG.append(random.uniform(binsEFG[3],binsEFG[4]))   \n",
    "        for x in range(histEFG[4]):\n",
    "            randomListEFG.append(random.uniform(binsEFG[4],binsEFG[5]))   \n",
    "        for x in range(histEFG[5]):\n",
    "            randomListEFG.append(random.uniform(binsEFG[5],binsEFG[6]))   \n",
    "        for x in range(histEFG[6]):\n",
    "            randomListEFG.append(random.uniform(binsEFG[6],binsEFG[7]))\n",
    "        for x in range(histEFG[7]):\n",
    "            randomListEFG.append(random.uniform(binsEFG[7],binsEFG[8]))\n",
    "        for x in range(histEFG[8]):\n",
    "            randomListEFG.append(random.uniform(binsEFG[8],binsEFG[9]))   \n",
    "        for x in range(histEFG[9]):\n",
    "            randomListEFG.append(random.uniform(binsEFG[9],binsEFG[10]))\n",
    "\n",
    "        for x in range(histRATE[0]):\n",
    "            randomListRate.append(random.uniform(binsRATE[0],binsRATE[1]))   \n",
    "        for x in range(histRATE[1]):\n",
    "            randomListRate.append(random.uniform(binsRATE[1],binsRATE[2]))   \n",
    "        for x in range(histRATE[2]):\n",
    "            randomListRate.append(random.uniform(binsRATE[2],binsRATE[3]))   \n",
    "        for x in range(histRATE[3]):\n",
    "            randomListRate.append(random.uniform(binsRATE[3],binsRATE[4]))   \n",
    "        for x in range(histRATE[4]):\n",
    "            randomListRate.append(random.uniform(binsRATE[4],binsRATE[5]))   \n",
    "        for x in range(histRATE[5]):\n",
    "            randomListRate.append(random.uniform(binsRATE[5],binsRATE[6]))   \n",
    "        for x in range(histRATE[6]):\n",
    "            randomListRate.append(random.uniform(binsRATE[6],binsRATE[7]))\n",
    "        for x in range(histRATE[7]):\n",
    "            randomListRate.append(random.uniform(binsRATE[7],binsRATE[8]))\n",
    "        for x in range(histRATE[8]):\n",
    "            randomListRate.append(random.uniform(binsRATE[8],binsRATE[9]))   \n",
    "        for x in range(histRATE[9]):\n",
    "            randomListRate.append(random.uniform(binsRATE[9],binsRATE[10]))\n",
    "\n",
    "        unique_combinations = []\n",
    "\n",
    "        for k in range(len(randomListPace)):\n",
    "            for l in range(len(randomListEFG)):\n",
    "                for m in range(len(randomListRate)):\n",
    "                    for n in range(len(randomListTrue)):\n",
    "                        unique_combinations.append((randomListPace[k],randomListEFG[l],randomListRate[m],randomListTrue[n]))\n",
    "        X_train, X_test, y_train, y_test = train_test_split(TrainingData[predictors], TrainingData['Team_Points'])\n",
    "        lr = LinearRegression()\n",
    "        lr.fit(X_train,y_train)                    \n",
    "        predictions = []\n",
    "        for combo in unique_combinations:\n",
    "            test_params = {'Pace':combo[0],\n",
    "                           'Offensive_EFG':combo[1],\n",
    "                           'OffensiveRating':combo[2],\n",
    "                           'TrueShootingRate':combo[3],\n",
    "                               }\n",
    "            #Creating the test dataframe\n",
    "            TestingData = pd.DataFrame(test_params, columns=['Pace'\n",
    "                                                             ,'Offensive_EFG'\n",
    "                                                             ,'OffensiveRating'\n",
    "                                                             ,'TrueShootingRate'\n",
    "                                                            ],index=[0]\n",
    "                                      )\n",
    "            # Creating our predictions\n",
    "            y_pred=lr.predict(TestingData[predictors])\n",
    "            predictions.append(y_pred[0])               \n",
    "        hist, bins = np.histogram(predictions, bins=10)\n",
    "        #predictionsLowerBound.append(bins[0])\n",
    "        #predictionsUpperBound.append(bins[-1])\n",
    "        mean = sum(predictions)/len(predictions)\n",
    "       \n",
    "        predictionMean.append(mean)#\n",
    "       \n",
    "        DateList.append(day)\n",
    "        TeamList.append(team)"
   ]
  },
  {
   "cell_type": "code",
   "execution_count": 46,
   "metadata": {},
   "outputs": [],
   "source": [
    "ResultsFrame = pd.DataFrame({\n",
    "                            'Date': DateList,\n",
    "                            'Team': TeamList,\n",
    "                            'Mean Prediction':predictionMean,\n",
    "                            \n",
    "\n",
    "\n",
    "\n",
    "})"
   ]
  },
  {
   "cell_type": "code",
   "execution_count": 48,
   "metadata": {},
   "outputs": [],
   "source": [
    "ResultsFrame = pd.merge(ResultsFrame, Merged_df, on=['Date','Team'], how='left')"
   ]
  },
  {
   "cell_type": "code",
   "execution_count": 50,
   "metadata": {},
   "outputs": [],
   "source": [
    "ResultsFrame=ResultsFrame[['Date',\n",
    "                           'Team',\n",
    "                           'Team_Points',\n",
    "                           'Mean Prediction',\n",
    "                          \n",
    "                          ]]"
   ]
  },
  {
   "cell_type": "code",
   "execution_count": 52,
   "metadata": {},
   "outputs": [],
   "source": [
    "ResultsFrame['Error'] = ResultsFrame['Mean Prediction'] - ResultsFrame['Team_Points']\n",
    "ResultsFrame['Abs Error'] = abs(ResultsFrame['Error'])"
   ]
  },
  {
   "cell_type": "code",
   "execution_count": 54,
   "metadata": {},
   "outputs": [],
   "source": [
    "ResultsFrame['Season'] = '2023-2024'"
   ]
  },
  {
   "cell_type": "code",
   "execution_count": 56,
   "metadata": {},
   "outputs": [
    {
     "data": {
      "text/plain": [
       "0.15601848665094498"
      ]
     },
     "execution_count": 56,
     "metadata": {},
     "output_type": "execute_result"
    }
   ],
   "source": [
    "ResultsFrame['Error'].mean()"
   ]
  },
  {
   "cell_type": "code",
   "execution_count": 58,
   "metadata": {},
   "outputs": [
    {
     "data": {
      "text/plain": [
       "10.139869217317294"
      ]
     },
     "execution_count": 58,
     "metadata": {},
     "output_type": "execute_result"
    }
   ],
   "source": [
    "ResultsFrame['Abs Error'].mean()"
   ]
  },
  {
   "cell_type": "code",
   "execution_count": 60,
   "metadata": {},
   "outputs": [
    {
     "data": {
      "text/html": [
       "<div>\n",
       "<style scoped>\n",
       "    .dataframe tbody tr th:only-of-type {\n",
       "        vertical-align: middle;\n",
       "    }\n",
       "\n",
       "    .dataframe tbody tr th {\n",
       "        vertical-align: top;\n",
       "    }\n",
       "\n",
       "    .dataframe thead th {\n",
       "        text-align: right;\n",
       "    }\n",
       "</style>\n",
       "<table border=\"1\" class=\"dataframe\">\n",
       "  <thead>\n",
       "    <tr style=\"text-align: right;\">\n",
       "      <th></th>\n",
       "      <th>Date</th>\n",
       "      <th>Team</th>\n",
       "      <th>Team_Points</th>\n",
       "      <th>Mean Prediction</th>\n",
       "      <th>Error</th>\n",
       "      <th>Abs Error</th>\n",
       "      <th>Season</th>\n",
       "    </tr>\n",
       "  </thead>\n",
       "  <tbody>\n",
       "    <tr>\n",
       "      <th>0</th>\n",
       "      <td>2023-10-26</td>\n",
       "      <td>MIL</td>\n",
       "      <td>118</td>\n",
       "      <td>117.373674</td>\n",
       "      <td>-0.626326</td>\n",
       "      <td>0.626326</td>\n",
       "      <td>2023-2024</td>\n",
       "    </tr>\n",
       "    <tr>\n",
       "      <th>1</th>\n",
       "      <td>2023-10-29</td>\n",
       "      <td>MIL</td>\n",
       "      <td>110</td>\n",
       "      <td>113.933819</td>\n",
       "      <td>3.933819</td>\n",
       "      <td>3.933819</td>\n",
       "      <td>2023-2024</td>\n",
       "    </tr>\n",
       "    <tr>\n",
       "      <th>2</th>\n",
       "      <td>2023-10-30</td>\n",
       "      <td>MIL</td>\n",
       "      <td>122</td>\n",
       "      <td>115.969962</td>\n",
       "      <td>-6.030038</td>\n",
       "      <td>6.030038</td>\n",
       "      <td>2023-2024</td>\n",
       "    </tr>\n",
       "    <tr>\n",
       "      <th>3</th>\n",
       "      <td>2023-11-01</td>\n",
       "      <td>MIL</td>\n",
       "      <td>111</td>\n",
       "      <td>115.996783</td>\n",
       "      <td>4.996783</td>\n",
       "      <td>4.996783</td>\n",
       "      <td>2023-2024</td>\n",
       "    </tr>\n",
       "    <tr>\n",
       "      <th>4</th>\n",
       "      <td>2023-11-03</td>\n",
       "      <td>MIL</td>\n",
       "      <td>110</td>\n",
       "      <td>112.517379</td>\n",
       "      <td>2.517379</td>\n",
       "      <td>2.517379</td>\n",
       "      <td>2023-2024</td>\n",
       "    </tr>\n",
       "    <tr>\n",
       "      <th>...</th>\n",
       "      <td>...</td>\n",
       "      <td>...</td>\n",
       "      <td>...</td>\n",
       "      <td>...</td>\n",
       "      <td>...</td>\n",
       "      <td>...</td>\n",
       "      <td>...</td>\n",
       "    </tr>\n",
       "    <tr>\n",
       "      <th>2427</th>\n",
       "      <td>2024-04-07</td>\n",
       "      <td>GSW</td>\n",
       "      <td>118</td>\n",
       "      <td>114.161020</td>\n",
       "      <td>-3.838980</td>\n",
       "      <td>3.838980</td>\n",
       "      <td>2023-2024</td>\n",
       "    </tr>\n",
       "    <tr>\n",
       "      <th>2428</th>\n",
       "      <td>2024-04-09</td>\n",
       "      <td>GSW</td>\n",
       "      <td>134</td>\n",
       "      <td>114.194045</td>\n",
       "      <td>-19.805955</td>\n",
       "      <td>19.805955</td>\n",
       "      <td>2023-2024</td>\n",
       "    </tr>\n",
       "    <tr>\n",
       "      <th>2429</th>\n",
       "      <td>2024-04-11</td>\n",
       "      <td>GSW</td>\n",
       "      <td>100</td>\n",
       "      <td>119.187574</td>\n",
       "      <td>19.187574</td>\n",
       "      <td>19.187574</td>\n",
       "      <td>2023-2024</td>\n",
       "    </tr>\n",
       "    <tr>\n",
       "      <th>2430</th>\n",
       "      <td>2024-04-12</td>\n",
       "      <td>GSW</td>\n",
       "      <td>109</td>\n",
       "      <td>116.812584</td>\n",
       "      <td>7.812584</td>\n",
       "      <td>7.812584</td>\n",
       "      <td>2023-2024</td>\n",
       "    </tr>\n",
       "    <tr>\n",
       "      <th>2431</th>\n",
       "      <td>2024-04-14</td>\n",
       "      <td>GSW</td>\n",
       "      <td>123</td>\n",
       "      <td>115.867741</td>\n",
       "      <td>-7.132259</td>\n",
       "      <td>7.132259</td>\n",
       "      <td>2023-2024</td>\n",
       "    </tr>\n",
       "  </tbody>\n",
       "</table>\n",
       "<p>2432 rows × 7 columns</p>\n",
       "</div>"
      ],
      "text/plain": [
       "            Date Team  Team_Points  Mean Prediction      Error  Abs Error  \\\n",
       "0     2023-10-26  MIL          118       117.373674  -0.626326   0.626326   \n",
       "1     2023-10-29  MIL          110       113.933819   3.933819   3.933819   \n",
       "2     2023-10-30  MIL          122       115.969962  -6.030038   6.030038   \n",
       "3     2023-11-01  MIL          111       115.996783   4.996783   4.996783   \n",
       "4     2023-11-03  MIL          110       112.517379   2.517379   2.517379   \n",
       "...          ...  ...          ...              ...        ...        ...   \n",
       "2427  2024-04-07  GSW          118       114.161020  -3.838980   3.838980   \n",
       "2428  2024-04-09  GSW          134       114.194045 -19.805955  19.805955   \n",
       "2429  2024-04-11  GSW          100       119.187574  19.187574  19.187574   \n",
       "2430  2024-04-12  GSW          109       116.812584   7.812584   7.812584   \n",
       "2431  2024-04-14  GSW          123       115.867741  -7.132259   7.132259   \n",
       "\n",
       "         Season  \n",
       "0     2023-2024  \n",
       "1     2023-2024  \n",
       "2     2023-2024  \n",
       "3     2023-2024  \n",
       "4     2023-2024  \n",
       "...         ...  \n",
       "2427  2023-2024  \n",
       "2428  2023-2024  \n",
       "2429  2023-2024  \n",
       "2430  2023-2024  \n",
       "2431  2023-2024  \n",
       "\n",
       "[2432 rows x 7 columns]"
      ]
     },
     "execution_count": 60,
     "metadata": {},
     "output_type": "execute_result"
    }
   ],
   "source": [
    "ResultsFrame"
   ]
  },
  {
   "cell_type": "code",
   "execution_count": 62,
   "metadata": {},
   "outputs": [],
   "source": [
    "ResultsFrame.to_excel('./TestingResults/Season2023.xlsx')"
   ]
  },
  {
   "cell_type": "code",
   "execution_count": 64,
   "metadata": {},
   "outputs": [
    {
     "data": {
      "text/plain": [
       "(array([  3.,   0.,   3.,   5.,   6.,   7.,  13.,  17.,  35.,  49.,  56.,\n",
       "         65.,  87.,  93., 107., 119., 145., 164., 153., 148., 162., 170.,\n",
       "        149., 135.,  98., 107.,  80.,  60.,  65.,  47.,  23.,  23.,  15.,\n",
       "         13.,   3.,   2.,   3.,   1.,   0.,   1.]),\n",
       " array([-41.53727734, -39.40139483, -37.26551232, -35.12962981,\n",
       "        -32.9937473 , -30.85786479, -28.72198228, -26.58609977,\n",
       "        -24.45021726, -22.31433475, -20.17845224, -18.04256973,\n",
       "        -15.90668722, -13.77080471, -11.6349222 ,  -9.4990397 ,\n",
       "         -7.36315719,  -5.22727468,  -3.09139217,  -0.95550966,\n",
       "          1.18037285,   3.31625536,   5.45213787,   7.58802038,\n",
       "          9.72390289,  11.8597854 ,  13.99566791,  16.13155042,\n",
       "         18.26743293,  20.40331544,  22.53919795,  24.67508046,\n",
       "         26.81096297,  28.94684548,  31.08272799,  33.2186105 ,\n",
       "         35.35449301,  37.49037551,  39.62625802,  41.76214053,\n",
       "         43.89802304]),\n",
       " <BarContainer object of 40 artists>)"
      ]
     },
     "execution_count": 64,
     "metadata": {},
     "output_type": "execute_result"
    },
    {
     "data": {
      "image/png": "[encoded data removed]",
      "text/plain": [
       "<Figure size 640x480 with 1 Axes>"
      ]
     },
     "metadata": {},
     "output_type": "display_data"
    }
   ],
   "source": [
    "# Plotting a basic histogram\n",
    "import matplotlib.pyplot as plt\n",
    "plt.hist(ResultsFrame['Error'], bins=40, color='skyblue', edgecolor='black')"
   ]
  },
  {
   "cell_type": "code",
   "execution_count": 66,
   "metadata": {},
   "outputs": [
    {
     "data": {
      "text/plain": [
       "(array([154., 156., 170., 167., 170., 160., 143., 126., 132., 103., 109.,\n",
       "         94.,  96., 100.,  62.,  71.,  61.,  58.,  63.,  48.,  35.,  28.,\n",
       "         18.,  29.,  15.,   9.,  15.,  12.,   7.,   3.,   4.,   3.,   3.,\n",
       "          3.,   0.,   1.,   1.,   2.,   0.,   1.]),\n",
       " array([1.08091946e-03, 1.09850447e+00, 2.19592803e+00, 3.29335158e+00,\n",
       "        4.39077513e+00, 5.48819868e+00, 6.58562224e+00, 7.68304579e+00,\n",
       "        8.78046934e+00, 9.87789290e+00, 1.09753165e+01, 1.20727400e+01,\n",
       "        1.31701636e+01, 1.42675871e+01, 1.53650107e+01, 1.64624342e+01,\n",
       "        1.75598578e+01, 1.86572813e+01, 1.97547049e+01, 2.08521284e+01,\n",
       "        2.19495520e+01, 2.30469755e+01, 2.41443991e+01, 2.52418226e+01,\n",
       "        2.63392462e+01, 2.74366697e+01, 2.85340933e+01, 2.96315169e+01,\n",
       "        3.07289404e+01, 3.18263640e+01, 3.29237875e+01, 3.40212111e+01,\n",
       "        3.51186346e+01, 3.62160582e+01, 3.73134817e+01, 3.84109053e+01,\n",
       "        3.95083288e+01, 4.06057524e+01, 4.17031759e+01, 4.28005995e+01,\n",
       "        4.38980230e+01]),\n",
       " <BarContainer object of 40 artists>)"
      ]
     },
     "execution_count": 66,
     "metadata": {},
     "output_type": "execute_result"
    },
    {
     "data": {
      "image/png": "[encoded data removed]",
      "text/plain": [
       "<Figure size 640x480 with 1 Axes>"
      ]
     },
     "metadata": {},
     "output_type": "display_data"
    }
   ],
   "source": [
    "plt.hist(ResultsFrame['Abs Error'], bins=40, color='skyblue', edgecolor='black')"
   ]
  },
  {
   "cell_type": "markdown",
   "metadata": {},
   "source": [
    "## End of Testing Notebook"
   ]
  }
 ],
 "metadata": {
  "kernelspec": {
   "display_name": "Python [conda env:base] *",
   "language": "python",
   "name": "conda-base-py"
  },
  "language_info": {
   "codemirror_mode": {
    "name": "ipython",
    "version": 3
   },
   "file_extension": ".py",
   "mimetype": "text/x-python",
   "name": "python",
   "nbconvert_exporter": "python",
   "pygments_lexer": "ipython3",
   "version": "3.12.7"
  }
 },
 "nbformat": 4,
 "nbformat_minor": 4
}
