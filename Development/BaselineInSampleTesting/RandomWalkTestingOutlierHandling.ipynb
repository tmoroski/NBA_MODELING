{
 "cells": [
  {
   "cell_type": "markdown",
   "metadata": {},
   "source": [
    "# Random Walk Testing (Linear Regression) - Small Scale"
   ]
  },
  {
   "cell_type": "code",
   "execution_count": 1,
   "metadata": {},
   "outputs": [],
   "source": [
    "# Library Imports\n",
    "import pandas as pd\n",
    "import numpy as np\n",
    "import seaborn as sns\n",
    "from sklearn.linear_model import LinearRegression\n",
    "from sklearn.model_selection import train_test_split\n",
    "import statistics\n",
    "from tqdm import tqdm\n",
    "import random\n",
    "import warnings\n",
    "import sys\n",
    "if not sys.warnoptions:\n",
    "    warnings.simplefilter(\"ignore\")"
   ]
  },
  {
   "cell_type": "markdown",
   "metadata": {},
   "source": [
    "### DataFrame Load & Munging"
   ]
  },
  {
   "cell_type": "code",
   "execution_count": 4,
   "metadata": {},
   "outputs": [],
   "source": [
    "#Loading our team level regular box score dataframe\n",
    "regularBoxScoreDF = pd.read_excel('../DataScience_Pipeline/RawDataFiles/teamRegularBoxScoreGamelogs.xlsx')\n",
    "#Loading our team level advanced box score dataframe\n",
    "advancedBoxScoreDF = pd.read_excel('../DataScience_Pipeline/RawDataFiles/teamAdvancedBoxScoreGamelogs.xlsx')"
   ]
  },
  {
   "cell_type": "code",
   "execution_count": 6,
   "metadata": {},
   "outputs": [],
   "source": [
    "# Subtracting fields from our regular box score dataframe that we dont need\n",
    "regularBoxScoreDF = regularBoxScoreDF[[\n",
    "    'Date',\n",
    "    'Team',\n",
    "    'Team_Points'\n",
    "    \n",
    "]]\n",
    "# Subtracting fields from our advanced box score dataframe that we dont need\n",
    "advancedBoxScoreDF = advancedBoxScoreDF[[\n",
    "    'Date',\n",
    "    'Team',\n",
    "    'Pace',\n",
    "    'Offensive_EFG',\n",
    "    'OffensiveRating',\n",
    "    'TrueShootingRate'\n",
    "    \n",
    "]]\n",
    "\n",
    "# Team 1 DataFrame Join\n",
    "Merged_df = pd.merge(regularBoxScoreDF, advancedBoxScoreDF, on=['Date','Team'], how='left')\n",
    "#Below line commented out for larger scale testing\n",
    "#Merged_df = Merged_df[Merged_df['Team']=='BOS']\n",
    "\n",
    "predictors = [\n",
    "      \n",
    "                'Pace',\n",
    "                'Offensive_EFG',\n",
    "                'OffensiveRating',\n",
    "                'TrueShootingRate'    \n",
    "            ]"
   ]
  },
  {
   "cell_type": "code",
   "execution_count": 86,
   "metadata": {},
   "outputs": [],
   "source": [
    "TrainingData = Merged_df[Merged_df['Date']<'2023-10-26']\n"
   ]
  },
  {
   "cell_type": "markdown",
   "metadata": {},
   "source": [
    "### NBA Team Testing"
   ]
  },
  {
   "cell_type": "code",
   "execution_count": 89,
   "metadata": {},
   "outputs": [],
   "source": [
    "# Creating a list of game dates for PHI\n",
    "\n",
    "# Season 2024 filter\n",
    "#TargetDayList = Merged_df[Merged_df['Date']>'2023-10-26']['Date'].to_list()\n",
    "# Season 2023 filter\n",
    "#TargetDayList = Merged_df[(Merged_df['Date']>='2022-10-26') & (Merged_df['Date']<'2023-10-26')]['Date'].to_list()\n",
    "\n",
    "# Season 2022 filter\n",
    "#TargetDayList = Merged_df[(Merged_df['Date']>='2021-10-26') & (Merged_df['Date']<'2022-10-26')]['Date'].to_list()"
   ]
  },
  {
   "cell_type": "code",
   "execution_count": 91,
   "metadata": {},
   "outputs": [],
   "source": [
    "predictionMean = []\n",
    "DateList = []\n",
    "TeamList = []\n",
    "TeamPointsList = []\n",
    "\n",
    "\n",
    "TestList = [\n",
    "            'MIL','TOR','BOS','IND'\n",
    "           ,'MIA','PHI','BRK','ORL'\n",
    "           ,'CHO','WAS','CHI','NYK'\n",
    "           ,'DET','ATL','CLE','LAL'\n",
    "           ,'LAC','DEN','HOU','OKC'\n",
    "           ,'UTA','DAL','POR','MEM'\n",
    "           ,'PHO','SAS','SAC','NOP'\n",
    "           ,'MIN','GSW'\n",
    "           ]"
   ]
  },
  {
   "cell_type": "code",
   "execution_count": 93,
   "metadata": {},
   "outputs": [],
   "source": [
    "#test = Merged_df[Merged_df['Team']=='MIL']"
   ]
  },
  {
   "cell_type": "code",
   "execution_count": 95,
   "metadata": {},
   "outputs": [],
   "source": [
    "#test['z_score'] = (test['Team_Points'] - test['Team_Points'].mean()) / test['Team_Points'].std()"
   ]
  },
  {
   "cell_type": "code",
   "execution_count": 97,
   "metadata": {},
   "outputs": [],
   "source": [
    "#test['outlier'] = test['z_score'].abs() > 1"
   ]
  },
  {
   "cell_type": "code",
   "execution_count": 99,
   "metadata": {},
   "outputs": [],
   "source": [
    "#test = test[test['outlier']==False]"
   ]
  },
  {
   "cell_type": "code",
   "execution_count": 101,
   "metadata": {},
   "outputs": [],
   "source": [
    "#test"
   ]
  },
  {
   "cell_type": "code",
   "execution_count": 103,
   "metadata": {},
   "outputs": [
    {
     "name": "stderr",
     "output_type": "stream",
     "text": [
      "100%|██████████| 30/30 [1:33:12<00:00, 186.40s/it]\n"
     ]
    }
   ],
   "source": [
    "for team in tqdm(TestList):\n",
    "    TestingDataset_df = Merged_df[Merged_df['Team']==team]\n",
    "    TargetDayList = TestingDataset_df[(TestingDataset_df['Date']>='2023-10-26') & (TestingDataset_df['Date']<'2024-10-26')]['Date'].to_list()\n",
    "    ##### - NEW CODE to account for outlier handling #####\n",
    "    TestingDataset_df['z_score'] = (TestingDataset_df['Team_Points'] - TestingDataset_df['Team_Points'].mean()) / TestingDataset_df['Team_Points'].std()\n",
    "    TestingDataset_df['outlier'] = TestingDataset_df['z_score'].abs() > 1\n",
    "    TestingDataset_df = TestingDataset_df[TestingDataset_df['outlier']==False]\n",
    "    ##### - END of Outlier Hnadling Code #####\n",
    "    \n",
    "    for day in TargetDayList:\n",
    "        TargetFrameForBinning = TestingDataset_df[TestingDataset_df['Date'] < day].tail(7)\n",
    "        histTS, binsTS = np.histogram(TargetFrameForBinning['TrueShootingRate'], bins=10)\n",
    "        histPace, binsPace = np.histogram(TargetFrameForBinning['Pace'], bins=10)\n",
    "        histEFG, binsEFG = np.histogram(TargetFrameForBinning['Offensive_EFG'], bins=10)\n",
    "        histRATE, binsRATE = np.histogram(TargetFrameForBinning['OffensiveRating'], bins=10)\n",
    "\n",
    "        randomListTrue =[]\n",
    "        randomListPace =[]\n",
    "        randomListEFG =[]\n",
    "        randomListRate =[]\n",
    "\n",
    "        for x in range(histTS[0]):\n",
    "            randomListTrue.append(random.uniform(binsTS[0],binsTS[1]))   \n",
    "        for x in range(histTS[1]):\n",
    "            randomListTrue.append(random.uniform(binsTS[1],binsTS[2]))   \n",
    "        for x in range(histTS[2]):\n",
    "            randomListTrue.append(random.uniform(binsTS[2],binsTS[3]))   \n",
    "        for x in range(histTS[3]):\n",
    "            randomListTrue.append(random.uniform(binsTS[3],binsTS[4]))   \n",
    "        for x in range(histTS[4]):\n",
    "            randomListTrue.append(random.uniform(binsTS[4],binsTS[5]))   \n",
    "        for x in range(histTS[5]):\n",
    "            randomListTrue.append(random.uniform(binsTS[5],binsTS[6]))   \n",
    "        for x in range(histTS[6]):\n",
    "            randomListTrue.append(random.uniform(binsTS[6],binsTS[7]))\n",
    "        for x in range(histTS[7]):\n",
    "            randomListTrue.append(random.uniform(binsTS[7],binsTS[8]))\n",
    "        for x in range(histTS[8]):\n",
    "            randomListTrue.append(random.uniform(binsTS[8],binsTS[9]))   \n",
    "        for x in range(histTS[9]):\n",
    "            randomListTrue.append(random.uniform(binsTS[9],binsTS[10]))\n",
    "\n",
    "        for x in range(histPace[0]):\n",
    "            randomListPace.append(random.uniform(binsPace[0],binsPace[1]))   \n",
    "        for x in range(histPace[1]):\n",
    "            randomListPace.append(random.uniform(binsPace[1],binsPace[2]))   \n",
    "        for x in range(histPace[2]):\n",
    "            randomListPace.append(random.uniform(binsPace[2],binsPace[3]))   \n",
    "        for x in range(histPace[3]):\n",
    "            randomListPace.append(random.uniform(binsPace[3],binsPace[4]))   \n",
    "        for x in range(histPace[4]):\n",
    "            randomListPace.append(random.uniform(binsPace[4],binsPace[5]))   \n",
    "        for x in range(histPace[5]):\n",
    "            randomListPace.append(random.uniform(binsPace[5],binsPace[6]))   \n",
    "        for x in range(histPace[6]):\n",
    "            randomListPace.append(random.uniform(binsPace[6],binsPace[7]))\n",
    "        for x in range(histPace[7]):\n",
    "            randomListPace.append(random.uniform(binsPace[7],binsPace[8]))\n",
    "        for x in range(histPace[8]):\n",
    "            randomListPace.append(random.uniform(binsPace[8],binsPace[9]))   \n",
    "        for x in range(histPace[9]):\n",
    "            randomListPace.append(random.uniform(binsPace[9],binsPace[10]))      \n",
    "\n",
    "        for x in range(histEFG[0]):\n",
    "            randomListEFG.append(random.uniform(binsEFG[0],binsEFG[1]))   \n",
    "        for x in range(histEFG[1]):\n",
    "            randomListEFG.append(random.uniform(binsEFG[1],binsEFG[2]))   \n",
    "        for x in range(histEFG[2]):\n",
    "            randomListEFG.append(random.uniform(binsEFG[2],binsEFG[3]))   \n",
    "        for x in range(histEFG[3]):\n",
    "            randomListEFG.append(random.uniform(binsEFG[3],binsEFG[4]))   \n",
    "        for x in range(histEFG[4]):\n",
    "            randomListEFG.append(random.uniform(binsEFG[4],binsEFG[5]))   \n",
    "        for x in range(histEFG[5]):\n",
    "            randomListEFG.append(random.uniform(binsEFG[5],binsEFG[6]))   \n",
    "        for x in range(histEFG[6]):\n",
    "            randomListEFG.append(random.uniform(binsEFG[6],binsEFG[7]))\n",
    "        for x in range(histEFG[7]):\n",
    "            randomListEFG.append(random.uniform(binsEFG[7],binsEFG[8]))\n",
    "        for x in range(histEFG[8]):\n",
    "            randomListEFG.append(random.uniform(binsEFG[8],binsEFG[9]))   \n",
    "        for x in range(histEFG[9]):\n",
    "            randomListEFG.append(random.uniform(binsEFG[9],binsEFG[10]))\n",
    "\n",
    "        for x in range(histRATE[0]):\n",
    "            randomListRate.append(random.uniform(binsRATE[0],binsRATE[1]))   \n",
    "        for x in range(histRATE[1]):\n",
    "            randomListRate.append(random.uniform(binsRATE[1],binsRATE[2]))   \n",
    "        for x in range(histRATE[2]):\n",
    "            randomListRate.append(random.uniform(binsRATE[2],binsRATE[3]))   \n",
    "        for x in range(histRATE[3]):\n",
    "            randomListRate.append(random.uniform(binsRATE[3],binsRATE[4]))   \n",
    "        for x in range(histRATE[4]):\n",
    "            randomListRate.append(random.uniform(binsRATE[4],binsRATE[5]))   \n",
    "        for x in range(histRATE[5]):\n",
    "            randomListRate.append(random.uniform(binsRATE[5],binsRATE[6]))   \n",
    "        for x in range(histRATE[6]):\n",
    "            randomListRate.append(random.uniform(binsRATE[6],binsRATE[7]))\n",
    "        for x in range(histRATE[7]):\n",
    "            randomListRate.append(random.uniform(binsRATE[7],binsRATE[8]))\n",
    "        for x in range(histRATE[8]):\n",
    "            randomListRate.append(random.uniform(binsRATE[8],binsRATE[9]))   \n",
    "        for x in range(histRATE[9]):\n",
    "            randomListRate.append(random.uniform(binsRATE[9],binsRATE[10]))\n",
    "\n",
    "        unique_combinations = []\n",
    "\n",
    "        for k in range(len(randomListPace)):\n",
    "            for l in range(len(randomListEFG)):\n",
    "                for m in range(len(randomListRate)):\n",
    "                    for n in range(len(randomListTrue)):\n",
    "                        unique_combinations.append((randomListPace[k],randomListEFG[l],randomListRate[m],randomListTrue[n]))\n",
    "        X_train, X_test, y_train, y_test = train_test_split(TrainingData[predictors], TrainingData['Team_Points'])\n",
    "        lr = LinearRegression()\n",
    "        lr.fit(X_train,y_train)                    \n",
    "        predictions = []\n",
    "        for combo in unique_combinations:\n",
    "            test_params = {'Pace':combo[0],\n",
    "                           'Offensive_EFG':combo[1],\n",
    "                           'OffensiveRating':combo[2],\n",
    "                           'TrueShootingRate':combo[3],\n",
    "                               }\n",
    "            #Creating the test dataframe\n",
    "            TestingData = pd.DataFrame(test_params, columns=['Pace'\n",
    "                                                             ,'Offensive_EFG'\n",
    "                                                             ,'OffensiveRating'\n",
    "                                                             ,'TrueShootingRate'\n",
    "                                                            ],index=[0]\n",
    "                                      )\n",
    "            # Creating our predictions\n",
    "            y_pred=lr.predict(TestingData[predictors])\n",
    "            predictions.append(y_pred[0])               \n",
    "        hist, bins = np.histogram(predictions, bins=10)\n",
    "        #predictionsLowerBound.append(bins[0])\n",
    "        #predictionsUpperBound.append(bins[-1])\n",
    "        mean = sum(predictions)/len(predictions)\n",
    "       \n",
    "        predictionMean.append(mean)#\n",
    "       \n",
    "        DateList.append(day)\n",
    "        TeamList.append(team)"
   ]
  },
  {
   "cell_type": "code",
   "execution_count": null,
   "metadata": {},
   "outputs": [],
   "source": []
  },
  {
   "cell_type": "code",
   "execution_count": null,
   "metadata": {},
   "outputs": [],
   "source": []
  },
  {
   "cell_type": "code",
   "execution_count": 107,
   "metadata": {},
   "outputs": [],
   "source": [
    "ResultsFrame = pd.DataFrame({\n",
    "                            'Date': DateList,\n",
    "                            'Team': TeamList,\n",
    "                            'Mean Prediction':predictionMean,\n",
    "                            \n",
    "\n",
    "\n",
    "\n",
    "})"
   ]
  },
  {
   "cell_type": "code",
   "execution_count": 109,
   "metadata": {},
   "outputs": [],
   "source": [
    "ResultsFrame = pd.merge(ResultsFrame, Merged_df, on=['Date','Team'], how='left')"
   ]
  },
  {
   "cell_type": "code",
   "execution_count": 111,
   "metadata": {},
   "outputs": [],
   "source": [
    "ResultsFrame=ResultsFrame[['Date',\n",
    "                           'Team',\n",
    "                           'Team_Points',\n",
    "                           'Mean Prediction',\n",
    "                          \n",
    "                          ]]"
   ]
  },
  {
   "cell_type": "code",
   "execution_count": 113,
   "metadata": {},
   "outputs": [],
   "source": [
    "ResultsFrame['Error'] = ResultsFrame['Mean Prediction'] - ResultsFrame['Team_Points']\n",
    "ResultsFrame['Abs Error'] = abs(ResultsFrame['Error'])"
   ]
  },
  {
   "cell_type": "code",
   "execution_count": 115,
   "metadata": {},
   "outputs": [],
   "source": [
    "ResultsFrame['Season'] = '2023-2024'"
   ]
  },
  {
   "cell_type": "code",
   "execution_count": 117,
   "metadata": {},
   "outputs": [
    {
     "data": {
      "text/plain": [
       "0.1568081621542815"
      ]
     },
     "execution_count": 117,
     "metadata": {},
     "output_type": "execute_result"
    }
   ],
   "source": [
    "ResultsFrame['Error'].mean()"
   ]
  },
  {
   "cell_type": "code",
   "execution_count": 119,
   "metadata": {},
   "outputs": [
    {
     "data": {
      "text/plain": [
       "10.138785913219376"
      ]
     },
     "execution_count": 119,
     "metadata": {},
     "output_type": "execute_result"
    }
   ],
   "source": [
    "ResultsFrame['Abs Error'].mean()"
   ]
  },
  {
   "cell_type": "code",
   "execution_count": 121,
   "metadata": {},
   "outputs": [
    {
     "data": {
      "text/html": [
       "<div>\n",
       "<style scoped>\n",
       "    .dataframe tbody tr th:only-of-type {\n",
       "        vertical-align: middle;\n",
       "    }\n",
       "\n",
       "    .dataframe tbody tr th {\n",
       "        vertical-align: top;\n",
       "    }\n",
       "\n",
       "    .dataframe thead th {\n",
       "        text-align: right;\n",
       "    }\n",
       "</style>\n",
       "<table border=\"1\" class=\"dataframe\">\n",
       "  <thead>\n",
       "    <tr style=\"text-align: right;\">\n",
       "      <th></th>\n",
       "      <th>Date</th>\n",
       "      <th>Team</th>\n",
       "      <th>Team_Points</th>\n",
       "      <th>Mean Prediction</th>\n",
       "      <th>Error</th>\n",
       "      <th>Abs Error</th>\n",
       "      <th>Season</th>\n",
       "    </tr>\n",
       "  </thead>\n",
       "  <tbody>\n",
       "    <tr>\n",
       "      <th>0</th>\n",
       "      <td>2023-10-26</td>\n",
       "      <td>MIL</td>\n",
       "      <td>118</td>\n",
       "      <td>118.893285</td>\n",
       "      <td>0.893285</td>\n",
       "      <td>0.893285</td>\n",
       "      <td>2023-2024</td>\n",
       "    </tr>\n",
       "    <tr>\n",
       "      <th>1</th>\n",
       "      <td>2023-10-29</td>\n",
       "      <td>MIL</td>\n",
       "      <td>110</td>\n",
       "      <td>114.561364</td>\n",
       "      <td>4.561364</td>\n",
       "      <td>4.561364</td>\n",
       "      <td>2023-2024</td>\n",
       "    </tr>\n",
       "    <tr>\n",
       "      <th>2</th>\n",
       "      <td>2023-10-30</td>\n",
       "      <td>MIL</td>\n",
       "      <td>122</td>\n",
       "      <td>115.969820</td>\n",
       "      <td>-6.030180</td>\n",
       "      <td>6.030180</td>\n",
       "      <td>2023-2024</td>\n",
       "    </tr>\n",
       "    <tr>\n",
       "      <th>3</th>\n",
       "      <td>2023-11-01</td>\n",
       "      <td>MIL</td>\n",
       "      <td>111</td>\n",
       "      <td>116.477082</td>\n",
       "      <td>5.477082</td>\n",
       "      <td>5.477082</td>\n",
       "      <td>2023-2024</td>\n",
       "    </tr>\n",
       "    <tr>\n",
       "      <th>4</th>\n",
       "      <td>2023-11-03</td>\n",
       "      <td>MIL</td>\n",
       "      <td>110</td>\n",
       "      <td>112.489097</td>\n",
       "      <td>2.489097</td>\n",
       "      <td>2.489097</td>\n",
       "      <td>2023-2024</td>\n",
       "    </tr>\n",
       "    <tr>\n",
       "      <th>...</th>\n",
       "      <td>...</td>\n",
       "      <td>...</td>\n",
       "      <td>...</td>\n",
       "      <td>...</td>\n",
       "      <td>...</td>\n",
       "      <td>...</td>\n",
       "      <td>...</td>\n",
       "    </tr>\n",
       "    <tr>\n",
       "      <th>2427</th>\n",
       "      <td>2024-04-07</td>\n",
       "      <td>GSW</td>\n",
       "      <td>118</td>\n",
       "      <td>113.887956</td>\n",
       "      <td>-4.112044</td>\n",
       "      <td>4.112044</td>\n",
       "      <td>2023-2024</td>\n",
       "    </tr>\n",
       "    <tr>\n",
       "      <th>2428</th>\n",
       "      <td>2024-04-09</td>\n",
       "      <td>GSW</td>\n",
       "      <td>134</td>\n",
       "      <td>114.913919</td>\n",
       "      <td>-19.086081</td>\n",
       "      <td>19.086081</td>\n",
       "      <td>2023-2024</td>\n",
       "    </tr>\n",
       "    <tr>\n",
       "      <th>2429</th>\n",
       "      <td>2024-04-11</td>\n",
       "      <td>GSW</td>\n",
       "      <td>100</td>\n",
       "      <td>119.601651</td>\n",
       "      <td>19.601651</td>\n",
       "      <td>19.601651</td>\n",
       "      <td>2023-2024</td>\n",
       "    </tr>\n",
       "    <tr>\n",
       "      <th>2430</th>\n",
       "      <td>2024-04-12</td>\n",
       "      <td>GSW</td>\n",
       "      <td>109</td>\n",
       "      <td>117.129075</td>\n",
       "      <td>8.129075</td>\n",
       "      <td>8.129075</td>\n",
       "      <td>2023-2024</td>\n",
       "    </tr>\n",
       "    <tr>\n",
       "      <th>2431</th>\n",
       "      <td>2024-04-14</td>\n",
       "      <td>GSW</td>\n",
       "      <td>123</td>\n",
       "      <td>115.528018</td>\n",
       "      <td>-7.471982</td>\n",
       "      <td>7.471982</td>\n",
       "      <td>2023-2024</td>\n",
       "    </tr>\n",
       "  </tbody>\n",
       "</table>\n",
       "<p>2432 rows × 7 columns</p>\n",
       "</div>"
      ],
      "text/plain": [
       "            Date Team  Team_Points  Mean Prediction      Error  Abs Error  \\\n",
       "0     2023-10-26  MIL          118       118.893285   0.893285   0.893285   \n",
       "1     2023-10-29  MIL          110       114.561364   4.561364   4.561364   \n",
       "2     2023-10-30  MIL          122       115.969820  -6.030180   6.030180   \n",
       "3     2023-11-01  MIL          111       116.477082   5.477082   5.477082   \n",
       "4     2023-11-03  MIL          110       112.489097   2.489097   2.489097   \n",
       "...          ...  ...          ...              ...        ...        ...   \n",
       "2427  2024-04-07  GSW          118       113.887956  -4.112044   4.112044   \n",
       "2428  2024-04-09  GSW          134       114.913919 -19.086081  19.086081   \n",
       "2429  2024-04-11  GSW          100       119.601651  19.601651  19.601651   \n",
       "2430  2024-04-12  GSW          109       117.129075   8.129075   8.129075   \n",
       "2431  2024-04-14  GSW          123       115.528018  -7.471982   7.471982   \n",
       "\n",
       "         Season  \n",
       "0     2023-2024  \n",
       "1     2023-2024  \n",
       "2     2023-2024  \n",
       "3     2023-2024  \n",
       "4     2023-2024  \n",
       "...         ...  \n",
       "2427  2023-2024  \n",
       "2428  2023-2024  \n",
       "2429  2023-2024  \n",
       "2430  2023-2024  \n",
       "2431  2023-2024  \n",
       "\n",
       "[2432 rows x 7 columns]"
      ]
     },
     "execution_count": 121,
     "metadata": {},
     "output_type": "execute_result"
    }
   ],
   "source": [
    "ResultsFrame"
   ]
  },
  {
   "cell_type": "code",
   "execution_count": 123,
   "metadata": {},
   "outputs": [],
   "source": [
    "ResultsFrame.to_excel('./TestingResults/Season2023Test2.xlsx')"
   ]
  },
  {
   "cell_type": "code",
   "execution_count": 166,
   "metadata": {},
   "outputs": [
    {
     "data": {
      "text/plain": [
       "(array([  1.,   0.,   0.,   1.,   0.,   3.,   4.,   5.,   3.,  11.,  13.,\n",
       "         17.,  35.,  49.,  64.,  90.,  95., 122., 146., 162., 169., 169.,\n",
       "        183., 174., 145., 139., 137.,  81.,  62.,  46.,  48.,  36.,  16.,\n",
       "         17.,   6.,   5.,   1.,   1.,   1.,   1.]),\n",
       " array([-54.11632826, -51.62085098, -49.1253737 , -46.62989641,\n",
       "        -44.13441913, -41.63894185, -39.14346457, -36.64798729,\n",
       "        -34.15251001, -31.65703272, -29.16155544, -26.66607816,\n",
       "        -24.17060088, -21.6751236 , -19.17964632, -16.68416903,\n",
       "        -14.18869175, -11.69321447,  -9.19773719,  -6.70225991,\n",
       "         -4.20678263,  -1.71130534,   0.78417194,   3.27964922,\n",
       "          5.7751265 ,   8.27060378,  10.76608106,  13.26155835,\n",
       "         15.75703563,  18.25251291,  20.74799019,  23.24346747,\n",
       "         25.73894475,  28.23442204,  30.72989932,  33.2253766 ,\n",
       "         35.72085388,  38.21633116,  40.71180844,  43.20728573,\n",
       "         45.70276301]),\n",
       " <BarContainer object of 40 artists>)"
      ]
     },
     "execution_count": 166,
     "metadata": {},
     "output_type": "execute_result"
    },
    {
     "data": {
      "image/png": "[encoded data removed]",
      "text/plain": [
       "<Figure size 640x480 with 1 Axes>"
      ]
     },
     "metadata": {},
     "output_type": "display_data"
    }
   ],
   "source": [
    "# Plotting a basic histogram\n",
    "import matplotlib.pyplot as plt\n",
    "plt.hist(ResultsFrame['Error'], bins=40, color='skyblue', edgecolor='black')"
   ]
  },
  {
   "cell_type": "code",
   "execution_count": 168,
   "metadata": {},
   "outputs": [
    {
     "data": {
      "text/plain": [
       "(array([196., 187., 182., 190., 173., 166., 145., 132., 130., 134.,  91.,\n",
       "         87.,  60.,  73.,  55.,  52.,  39.,  43.,  26.,  17.,  17.,  15.,\n",
       "         14.,   8.,   6.,   5.,   3.,   3.,   2.,   3.,   1.,   0.,   0.,\n",
       "          1.,   1.,   0.,   0.,   0.,   0.,   1.]),\n",
       " array([1.22592405e-04, 1.35302773e+00, 2.70593288e+00, 4.05883802e+00,\n",
       "        5.41174316e+00, 6.76464830e+00, 8.11755344e+00, 9.47045858e+00,\n",
       "        1.08233637e+01, 1.21762689e+01, 1.35291740e+01, 1.48820792e+01,\n",
       "        1.62349843e+01, 1.75878894e+01, 1.89407946e+01, 2.02936997e+01,\n",
       "        2.16466049e+01, 2.29995100e+01, 2.43524151e+01, 2.57053203e+01,\n",
       "        2.70582254e+01, 2.84111306e+01, 2.97640357e+01, 3.11169409e+01,\n",
       "        3.24698460e+01, 3.38227511e+01, 3.51756563e+01, 3.65285614e+01,\n",
       "        3.78814666e+01, 3.92343717e+01, 4.05872768e+01, 4.19401820e+01,\n",
       "        4.32930871e+01, 4.46459923e+01, 4.59988974e+01, 4.73518026e+01,\n",
       "        4.87047077e+01, 5.00576128e+01, 5.14105180e+01, 5.27634231e+01,\n",
       "        5.41163283e+01]),\n",
       " <BarContainer object of 40 artists>)"
      ]
     },
     "execution_count": 168,
     "metadata": {},
     "output_type": "execute_result"
    },
    {
     "data": {
      "image/png": "[encoded data removed]",
      "text/plain": [
       "<Figure size 640x480 with 1 Axes>"
      ]
     },
     "metadata": {},
     "output_type": "display_data"
    }
   ],
   "source": [
    "plt.hist(ResultsFrame['Abs Error'], bins=40, color='skyblue', edgecolor='black')"
   ]
  },
  {
   "cell_type": "markdown",
   "metadata": {},
   "source": [
    "## End of Testing Notebook"
   ]
  }
 ],
 "metadata": {
  "kernelspec": {
   "display_name": "Python [conda env:base] *",
   "language": "python",
   "name": "conda-base-py"
  },
  "language_info": {
   "codemirror_mode": {
    "name": "ipython",
    "version": 3
   },
   "file_extension": ".py",
   "mimetype": "text/x-python",
   "name": "python",
   "nbconvert_exporter": "python",
   "pygments_lexer": "ipython3",
   "version": "3.12.7"
  }
 },
 "nbformat": 4,
 "nbformat_minor": 4
}
