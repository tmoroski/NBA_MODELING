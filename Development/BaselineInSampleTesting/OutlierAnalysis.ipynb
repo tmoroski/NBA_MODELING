{
 "cells": [
  {
   "cell_type": "markdown",
   "id": "61e7e793-ce93-41d5-92d8-279e9e2fd77c",
   "metadata": {},
   "source": [
    "# Random Walk Analysis"
   ]
  },
  {
   "cell_type": "code",
   "execution_count": 8,
   "id": "e634d477-8eaa-4cb9-8b3e-b748f5e198da",
   "metadata": {},
   "outputs": [],
   "source": [
    "import pandas as pd\n",
    "import numpy as np\n",
    "import math\n",
    "import matplotlib.pyplot as plt\n",
    "import scipy.stats as stats\n",
    "import warnings\n",
    "import sys\n",
    "if not sys.warnoptions:\n",
    "    warnings.simplefilter(\"ignore\")"
   ]
  },
  {
   "cell_type": "code",
   "execution_count": 10,
   "id": "c7650ff8-cef4-40f8-98ba-0377e713d8e7",
   "metadata": {},
   "outputs": [],
   "source": [
    "# Atlantic Division\n",
    "ResultsFrame2018= pd.read_excel('./TestingResults/Season2018.xlsx')\n",
    "ResultsFrame2019= pd.read_excel('./TestingResults/Season2019.xlsx')\n",
    "ResultsFrame2020= pd.read_excel('./TestingResults/Season2020.xlsx')\n",
    "ResultsFrame2021= pd.read_excel('./TestingResults/Season2021.xlsx')\n",
    "ResultsFrame2022= pd.read_excel('./TestingResults/Season2022.xlsx')\n",
    "ResultsFrame2023= pd.read_excel('./TestingResults/Season2023.xlsx')\n",
    "\n",
    "# Frames with outlier handiling\n",
    "ResultsFrame2018OL= pd.read_excel('./TestingResults/Season2018Test2.xlsx')\n",
    "ResultsFrame2019OL= pd.read_excel('./TestingResults/Season2019Test2.xlsx')\n",
    "ResultsFrame2020OL= pd.read_excel('./TestingResults/Season2020Test2.xlsx')\n",
    "ResultsFrame2021OL= pd.read_excel('./TestingResults/Season2021Test2.xlsx')\n",
    "ResultsFrame2022OL= pd.read_excel('./TestingResults/Season2022Test2.xlsx')\n",
    "ResultsFrame2023OL= pd.read_excel('./TestingResults/Season2023Test2.xlsx')\n"
   ]
  },
  {
   "cell_type": "code",
   "execution_count": 12,
   "id": "ed465e39-d6dc-4d51-a152-68d47650df30",
   "metadata": {},
   "outputs": [],
   "source": [
    "ResultsFrame = pd.concat([ \n",
    "                             ResultsFrame2018\n",
    "                            ,ResultsFrame2019\n",
    "                            ,ResultsFrame2020\n",
    "                            ,ResultsFrame2021\n",
    "                            ,ResultsFrame2022\n",
    "                            ,ResultsFrame2023\n",
    "                       \n",
    "                         ], ignore_index=True)\n",
    "del ResultsFrame['Unnamed: 0']\n",
    "\n",
    "ResultsFrameOL = pd.concat([ \n",
    "                             ResultsFrame2018OL\n",
    "                            ,ResultsFrame2019OL\n",
    "                            ,ResultsFrame2020OL\n",
    "                            ,ResultsFrame2021OL\n",
    "                            ,ResultsFrame2022OL\n",
    "                            ,ResultsFrame2023OL\n",
    "                       \n",
    "                         ], ignore_index=True)\n",
    "del ResultsFrameOL['Unnamed: 0']"
   ]
  },
  {
   "cell_type": "code",
   "execution_count": 14,
   "id": "602e9000-3c1e-4aac-ba44-6e1290a1dce7",
   "metadata": {},
   "outputs": [],
   "source": [
    "#ResultsFrame.head()"
   ]
  },
  {
   "cell_type": "code",
   "execution_count": 16,
   "id": "d4878947-e183-4f37-a12a-2a9ebe14270f",
   "metadata": {},
   "outputs": [
    {
     "data": {
      "text/plain": [
       "9.978658091672349"
      ]
     },
     "execution_count": 16,
     "metadata": {},
     "output_type": "execute_result"
    }
   ],
   "source": [
    "ResultsFrame['Abs Error'].mean()"
   ]
  },
  {
   "cell_type": "code",
   "execution_count": 18,
   "id": "30b1ba23-ca34-4f8d-acac-926e7088b63a",
   "metadata": {},
   "outputs": [
    {
     "data": {
      "text/plain": [
       "9.97197281897981"
      ]
     },
     "execution_count": 18,
     "metadata": {},
     "output_type": "execute_result"
    }
   ],
   "source": [
    "ResultsFrameOL['Abs Error'].mean()"
   ]
  },
  {
   "cell_type": "markdown",
   "id": "1d4d0127-bf06-4f93-9351-5c9409487d2f",
   "metadata": {},
   "source": [
    "### Distribution Plots - Team Points & Absolute Error"
   ]
  },
  {
   "cell_type": "code",
   "execution_count": 2,
   "id": "121a39ef-673f-4178-aee6-f0a09cc20d5b",
   "metadata": {},
   "outputs": [],
   "source": [
    "#plt.hist(ResultsFrame['Team_Points'], bins=40, color='skyblue', edgecolor='black')"
   ]
  },
  {
   "cell_type": "code",
   "execution_count": 4,
   "id": "6d4e7e89-fc34-4741-8f85-a91a41bfc24a",
   "metadata": {},
   "outputs": [],
   "source": [
    "#plt.hist(ResultsFrame['Error'], bins=40, color='skyblue', edgecolor='black')"
   ]
  },
  {
   "cell_type": "code",
   "execution_count": 6,
   "id": "5dfcd5d9-f337-4dbc-aed2-73de2e28ac6a",
   "metadata": {},
   "outputs": [],
   "source": [
    "#plt.hist(ResultsFrameOL['Error'], bins=40, color='skyblue', edgecolor='black')"
   ]
  },
  {
   "cell_type": "markdown",
   "id": "6063fe02-f06f-40c6-917f-08b4ddde5482",
   "metadata": {},
   "source": [
    "### Outlier Handling"
   ]
  },
  {
   "cell_type": "code",
   "execution_count": 20,
   "id": "f5f26864-cdd2-428f-b7c3-4063144c49a1",
   "metadata": {},
   "outputs": [],
   "source": [
    "# Identify outliers\n",
    "threshold = 1\n",
    "thresholdHigh = 1\n",
    "thresholdLow = -1\n",
    "# Calculate the Z-scores\n",
    "ResultsFrame['z_score'] = (ResultsFrame['Team_Points'] - ResultsFrame['Team_Points'].mean()) / ResultsFrame['Team_Points'].std()\n",
    "\n",
    "ResultsFrame['outlier'] = ResultsFrame['z_score'].abs() > threshold\n",
    "ResultsFrame['outlier_High'] = ResultsFrame['z_score'] > thresholdHigh\n",
    "ResultsFrame['outlier_Low'] = ResultsFrame['z_score'] < thresholdLow\n",
    "\n",
    "# Calculate the Z-scores\n",
    "ResultsFrameOL['z_score'] = (ResultsFrameOL['Team_Points'] - ResultsFrameOL['Team_Points'].mean()) / ResultsFrameOL['Team_Points'].std()\n",
    "\n",
    "ResultsFrameOL['outlier'] = ResultsFrameOL['z_score'].abs() > threshold\n",
    "ResultsFrameOL['outlier_High'] = ResultsFrameOL['z_score'] > thresholdHigh\n",
    "ResultsFrameOL['outlier_Low'] = ResultsFrameOL['z_score'] < thresholdLow"
   ]
  },
  {
   "cell_type": "code",
   "execution_count": 40,
   "id": "90c3e253-5fb6-4755-9bba-1d776e025dfa",
   "metadata": {},
   "outputs": [
    {
     "data": {
      "text/plain": [
       "13986"
      ]
     },
     "execution_count": 40,
     "metadata": {},
     "output_type": "execute_result"
    }
   ],
   "source": [
    "record_count = ResultsFrame.shape[0]\n",
    "record_count"
   ]
  },
  {
   "cell_type": "code",
   "execution_count": 44,
   "id": "43542d39-7b57-4ff3-8933-b2aa1d809ecd",
   "metadata": {},
   "outputs": [
    {
     "data": {
      "text/plain": [
       "9765"
      ]
     },
     "execution_count": 44,
     "metadata": {},
     "output_type": "execute_result"
    }
   ],
   "source": [
    "record_countNoOutliers = ResultsFrame_NoOutliers.shape[0]\n",
    "record_countNoOutliers"
   ]
  },
  {
   "cell_type": "code",
   "execution_count": 24,
   "id": "f6ed6aeb-d6a9-4fee-acfa-3ebfa4117f5e",
   "metadata": {},
   "outputs": [],
   "source": [
    "ResultsFrame_NoOutliers = ResultsFrame[ResultsFrame['outlier']==False]\n",
    "ResultsFrameOL_NoOutliers = ResultsFrameOL[ResultsFrameOL['outlier']==False]"
   ]
  },
  {
   "cell_type": "code",
   "execution_count": 30,
   "id": "ae1e4f8f-6ef1-464e-a786-5290df4c1c8c",
   "metadata": {},
   "outputs": [
    {
     "data": {
      "text/plain": [
       "6.875938667901807"
      ]
     },
     "execution_count": 30,
     "metadata": {},
     "output_type": "execute_result"
    }
   ],
   "source": [
    "ResultsFrame_NoOutliers['Abs Error'].mean()"
   ]
  },
  {
   "cell_type": "code",
   "execution_count": 32,
   "id": "c1e16549-64af-4a3a-9ea3-eeea09bada4c",
   "metadata": {},
   "outputs": [
    {
     "data": {
      "text/plain": [
       "6.863565617325429"
      ]
     },
     "execution_count": 32,
     "metadata": {},
     "output_type": "execute_result"
    }
   ],
   "source": [
    "ResultsFrameOL_NoOutliers['Abs Error'].mean()"
   ]
  },
  {
   "cell_type": "code",
   "execution_count": 25,
   "id": "5b55ecb3-9aa4-42a4-b735-15bd2f7bc9bc",
   "metadata": {},
   "outputs": [],
   "source": [
    "#ResultsFrame_NoOutliers"
   ]
  },
  {
   "cell_type": "code",
   "execution_count": 36,
   "id": "7939c489-aaba-49e7-a7fd-091ad9101798",
   "metadata": {},
   "outputs": [
    {
     "data": {
      "text/plain": [
       "(array([  2.,   1.,   3.,   5.,   8.,  17.,  29.,  43.,  64.,  96., 131.,\n",
       "        211., 279., 298., 408., 451., 555., 595., 612., 619., 659., 617.,\n",
       "        643., 577., 556., 473., 421., 356., 298., 233., 185.,  99.,  78.,\n",
       "         64.,  41.,  17.,   9.,   9.,   2.,   1.]),\n",
       " array([-30.77087188, -29.28297301, -27.79507413, -26.30717526,\n",
       "        -24.81927638, -23.33137751, -21.84347863, -20.35557976,\n",
       "        -18.86768089, -17.37978201, -15.89188314, -14.40398426,\n",
       "        -12.91608539, -11.42818651,  -9.94028764,  -8.45238877,\n",
       "         -6.96448989,  -5.47659102,  -3.98869214,  -2.50079327,\n",
       "         -1.01289439,   0.47500448,   1.96290335,   3.45080223,\n",
       "          4.9387011 ,   6.42659998,   7.91449885,   9.40239773,\n",
       "         10.8902966 ,  12.37819547,  13.86609435,  15.35399322,\n",
       "         16.8418921 ,  18.32979097,  19.81768985,  21.30558872,\n",
       "         22.7934876 ,  24.28138647,  25.76928534,  27.25718422,\n",
       "         28.74508309]),\n",
       " <BarContainer object of 40 artists>)"
      ]
     },
     "execution_count": 36,
     "metadata": {},
     "output_type": "execute_result"
    },
    {
     "data": {
      "image/png": "[encoded data removed]",
      "text/plain": [
       "<Figure size 640x480 with 1 Axes>"
      ]
     },
     "metadata": {},
     "output_type": "display_data"
    }
   ],
   "source": [
    "plt.hist(ResultsFrame_NoOutliers['Error'], bins=40, color='skyblue', edgecolor='black')"
   ]
  },
  {
   "cell_type": "code",
   "execution_count": 27,
   "id": "a2c42bfc-a16f-4f6f-a6b7-bcf762a9f4be",
   "metadata": {},
   "outputs": [
    {
     "data": {
      "text/plain": [
       "6.875938667901807"
      ]
     },
     "execution_count": 27,
     "metadata": {},
     "output_type": "execute_result"
    }
   ],
   "source": [
    "ResultsFrame_NoOutliers['Abs Error'].mean()"
   ]
  },
  {
   "cell_type": "code",
   "execution_count": 29,
   "id": "49b08bef-2e87-4597-9130-b02d4d4b10cf",
   "metadata": {},
   "outputs": [
    {
     "data": {
      "text/plain": [
       "6.863565617325429"
      ]
     },
     "execution_count": 29,
     "metadata": {},
     "output_type": "execute_result"
    }
   ],
   "source": [
    "ResultsFrameOL_NoOutliers['Abs Error'].mean()"
   ]
  },
  {
   "cell_type": "markdown",
   "id": "b4a542bc-3149-40b6-8d80-d2d57049c10c",
   "metadata": {},
   "source": [
    "### Indivual Team Investigation"
   ]
  },
  {
   "cell_type": "code",
   "execution_count": 113,
   "id": "e9223a0c-02f4-4979-80ea-753f821e67a8",
   "metadata": {},
   "outputs": [],
   "source": [
    "TeamList = [\n",
    "            'MIL','TOR','BOS','IND'\n",
    "           ,'MIA','PHI','BRK','ORL'\n",
    "           ,'CHO','WAS','CHI','NYK'\n",
    "           ,'DET','ATL','CLE','LAL'\n",
    "           ,'LAC','DEN','HOU','OKC'\n",
    "           ,'UTA','DAL','POR','MEM'\n",
    "           ,'PHO','SAS','SAC','NOP'\n",
    "           ,'MIN','GSW'\n",
    "           ]\n",
    "seasonList = ['2018-2019','2019-2020','2020-2021','2021-2022','2022-2023','2023-2024']\n"
   ]
  },
  {
   "cell_type": "code",
   "execution_count": 115,
   "id": "002a5d6d-d4a4-43b3-9ddc-4c20a99b6591",
   "metadata": {},
   "outputs": [],
   "source": [
    "seasons = []\n",
    "Teams = []\n",
    "absError=[]\n",
    "averageOutlierPointsAboveThreshold = []\n",
    "averageOutlierPointsBelowThreshold = []\n",
    "errorNoOutliers = []"
   ]
  },
  {
   "cell_type": "code",
   "execution_count": 117,
   "id": "5e82287a-237e-4451-816c-343891d2ac7e",
   "metadata": {},
   "outputs": [],
   "source": [
    "for season in seasonList:\n",
    "    TeamFrame = ResultsFrame[ResultsFrame['Season']== season]\n",
    "    for team in TeamList:\n",
    "        TeamFrame = TeamFrame[TeamFrame['Team' ]== team]\n",
    "        # Calculate the Z-scores\n",
    "        TeamFrame['z_score'] = (TeamFrame['Team_Points'] - TeamFrame['Team_Points'].mean()) / TeamFrame['Team_Points'].std()\n",
    "        # Identify outliers\n",
    "        threshold = 1\n",
    "        thresholdHigh = 1\n",
    "        thresholdLow = -1\n",
    "        \n",
    "        TeamFrame['outlier'] = TeamFrame['z_score'].abs() > threshold\n",
    "        TeamFrame['outlier_High'] = TeamFrame['z_score'] > thresholdHigh\n",
    "        TeamFrame['outlier_Low'] = TeamFrame['z_score'] < thresholdLow\n",
    "        \n",
    "        absError.append(TeamFrame['Abs Error'].mean())\n",
    "        \n",
    "        outlierFrameAboveThreshold = TeamFrame[TeamFrame['outlier_High']==True]\n",
    "        averageOutlierPointsAboveThreshold.append(outlierFrameAboveThreshold['Team_Points'].mean())\n",
    "        \n",
    "        OutlierFrameBelowThreshold = TeamFrame[TeamFrame['outlier_Low']==True]\n",
    "        averageOutlierPointsBelowThreshold.append(OutlierFrameBelowThreshold['Team_Points'].mean())\n",
    "    \n",
    "        nonOutlierFrame = TeamFrame[TeamFrame['outlier']==False]\n",
    "        errorNoOutliers.append(nonOutlierFrame['Abs Error'].mean())\n",
    "        Teams.append(team)\n",
    "        seasons.append(season)"
   ]
  },
  {
   "cell_type": "code",
   "execution_count": 119,
   "id": "79268865-de93-4d33-a4db-c2a16ae47d34",
   "metadata": {},
   "outputs": [],
   "source": [
    "OutputFrame = pd.DataFrame({\n",
    "                            'Season':seasons,\n",
    "                            'Team': Teams,\n",
    "                            'Absolute Error': absError,\n",
    "                            'Team Points - Average Outlier Value (Above Threshold)':averageOutlierPointsAboveThreshold,\n",
    "                            'Team Points - Average Outlier Value (Below Threshold)':averageOutlierPointsBelowThreshold,\n",
    "    \n",
    "                            'Absolute Error (Outliers Removed)':errorNoOutliers,\n",
    "                            \n",
    "\n",
    "\n",
    "\n",
    "})"
   ]
  },
  {
   "cell_type": "code",
   "execution_count": 121,
   "id": "f6f0036e-b031-42b7-8c9b-d060f4e4e1bb",
   "metadata": {},
   "outputs": [
    {
     "data": {
      "text/html": [
       "<div>\n",
       "<style scoped>\n",
       "    .dataframe tbody tr th:only-of-type {\n",
       "        vertical-align: middle;\n",
       "    }\n",
       "\n",
       "    .dataframe tbody tr th {\n",
       "        vertical-align: top;\n",
       "    }\n",
       "\n",
       "    .dataframe thead th {\n",
       "        text-align: right;\n",
       "    }\n",
       "</style>\n",
       "<table border=\"1\" class=\"dataframe\">\n",
       "  <thead>\n",
       "    <tr style=\"text-align: right;\">\n",
       "      <th></th>\n",
       "      <th>Season</th>\n",
       "      <th>Team</th>\n",
       "      <th>Absolute Error</th>\n",
       "      <th>Team Points - Average Outlier Value (Above Threshold)</th>\n",
       "      <th>Team Points - Average Outlier Value (Below Threshold)</th>\n",
       "      <th>Absolute Error (Outliers Removed)</th>\n",
       "    </tr>\n",
       "  </thead>\n",
       "  <tbody>\n",
       "    <tr>\n",
       "      <th>0</th>\n",
       "      <td>2018-2019</td>\n",
       "      <td>MIL</td>\n",
       "      <td>10.813986</td>\n",
       "      <td>137.0</td>\n",
       "      <td>98.454545</td>\n",
       "      <td>6.385966</td>\n",
       "    </tr>\n",
       "    <tr>\n",
       "      <th>1</th>\n",
       "      <td>2018-2019</td>\n",
       "      <td>TOR</td>\n",
       "      <td>NaN</td>\n",
       "      <td>NaN</td>\n",
       "      <td>NaN</td>\n",
       "      <td>NaN</td>\n",
       "    </tr>\n",
       "    <tr>\n",
       "      <th>2</th>\n",
       "      <td>2018-2019</td>\n",
       "      <td>BOS</td>\n",
       "      <td>NaN</td>\n",
       "      <td>NaN</td>\n",
       "      <td>NaN</td>\n",
       "      <td>NaN</td>\n",
       "    </tr>\n",
       "    <tr>\n",
       "      <th>3</th>\n",
       "      <td>2018-2019</td>\n",
       "      <td>IND</td>\n",
       "      <td>NaN</td>\n",
       "      <td>NaN</td>\n",
       "      <td>NaN</td>\n",
       "      <td>NaN</td>\n",
       "    </tr>\n",
       "    <tr>\n",
       "      <th>4</th>\n",
       "      <td>2018-2019</td>\n",
       "      <td>MIA</td>\n",
       "      <td>NaN</td>\n",
       "      <td>NaN</td>\n",
       "      <td>NaN</td>\n",
       "      <td>NaN</td>\n",
       "    </tr>\n",
       "  </tbody>\n",
       "</table>\n",
       "</div>"
      ],
      "text/plain": [
       "      Season Team  Absolute Error  \\\n",
       "0  2018-2019  MIL       10.813986   \n",
       "1  2018-2019  TOR             NaN   \n",
       "2  2018-2019  BOS             NaN   \n",
       "3  2018-2019  IND             NaN   \n",
       "4  2018-2019  MIA             NaN   \n",
       "\n",
       "   Team Points - Average Outlier Value (Above Threshold)  \\\n",
       "0                                              137.0       \n",
       "1                                                NaN       \n",
       "2                                                NaN       \n",
       "3                                                NaN       \n",
       "4                                                NaN       \n",
       "\n",
       "   Team Points - Average Outlier Value (Below Threshold)  \\\n",
       "0                                          98.454545       \n",
       "1                                                NaN       \n",
       "2                                                NaN       \n",
       "3                                                NaN       \n",
       "4                                                NaN       \n",
       "\n",
       "   Absolute Error (Outliers Removed)  \n",
       "0                           6.385966  \n",
       "1                                NaN  \n",
       "2                                NaN  \n",
       "3                                NaN  \n",
       "4                                NaN  "
      ]
     },
     "execution_count": 121,
     "metadata": {},
     "output_type": "execute_result"
    }
   ],
   "source": [
    "OutputFrame.head(5)"
   ]
  },
  {
   "cell_type": "markdown",
   "id": "ab848223-3b8a-458b-ad2d-a5323b7cab8c",
   "metadata": {},
   "source": [
    "## Yearly Outlier Statistics"
   ]
  },
  {
   "cell_type": "markdown",
   "id": "2fe0cc20-4087-41ed-94ef-45a4dc410eba",
   "metadata": {},
   "source": [
    "### 2018 - 2019"
   ]
  },
  {
   "cell_type": "code",
   "execution_count": 125,
   "id": "521ed398-e73a-4ac3-889e-fad4403bbbf7",
   "metadata": {},
   "outputs": [
    {
     "name": "stdout",
     "output_type": "stream",
     "text": [
      "10.813986353350874\n",
      "6.385966114809702\n"
     ]
    }
   ],
   "source": [
    "# Mean Error\n",
    "print(OutputFrame[OutputFrame['Season']== '2018-2019']['Absolute Error'].mean())\n",
    "# Error Without Outliers\n",
    "print(OutputFrame[OutputFrame['Season']== '2018-2019']['Absolute Error (Outliers Removed)'].mean())"
   ]
  },
  {
   "cell_type": "markdown",
   "id": "6a3a9a45-1771-4033-87b3-d7999a7dca62",
   "metadata": {},
   "source": [
    "### 2019 - 2020"
   ]
  },
  {
   "cell_type": "code",
   "execution_count": 127,
   "id": "11b2873b-eaaa-4339-b30d-946c7ba14863",
   "metadata": {},
   "outputs": [
    {
     "name": "stdout",
     "output_type": "stream",
     "text": [
      "9.924322885095725\n",
      "6.760871305757894\n"
     ]
    }
   ],
   "source": [
    "# Mean Error\n",
    "print(OutputFrame[OutputFrame['Season']== '2019-2020']['Absolute Error'].mean())\n",
    "# Error Without Outliers\n",
    "print(OutputFrame[OutputFrame['Season']== '2019-2020']['Absolute Error (Outliers Removed)'].mean())"
   ]
  },
  {
   "cell_type": "markdown",
   "id": "e5817376-910a-4a6f-b95d-59cf70e12d4c",
   "metadata": {},
   "source": [
    "### 2020 - 2021"
   ]
  },
  {
   "cell_type": "code",
   "execution_count": 129,
   "id": "5bdd8deb-7895-44f1-9d8a-22da9d4d9fd1",
   "metadata": {},
   "outputs": [
    {
     "name": "stdout",
     "output_type": "stream",
     "text": [
      "10.341215647266338\n",
      "6.397485783548001\n"
     ]
    }
   ],
   "source": [
    "# Mean Error\n",
    "print(OutputFrame[OutputFrame['Season']== '2020-2021']['Absolute Error'].mean())\n",
    "# Error Without Outliers\n",
    "print(OutputFrame[OutputFrame['Season']== '2020-2021']['Absolute Error (Outliers Removed)'].mean())"
   ]
  },
  {
   "cell_type": "markdown",
   "id": "d3e9f5aa-685e-46c8-9fe5-b6429ebf9106",
   "metadata": {},
   "source": [
    "### 2021 - 2022"
   ]
  },
  {
   "cell_type": "code",
   "execution_count": 132,
   "id": "9f62d716-0f8f-4795-a0fa-b48340bd1c45",
   "metadata": {},
   "outputs": [
    {
     "name": "stdout",
     "output_type": "stream",
     "text": [
      "10.932018800382368\n",
      "7.985596661716272\n"
     ]
    }
   ],
   "source": [
    "# Mean Error\n",
    "print(OutputFrame[OutputFrame['Season']== '2021-2022']['Absolute Error'].mean())\n",
    "# Error Without Outliers\n",
    "print(OutputFrame[OutputFrame['Season']== '2021-2022']['Absolute Error (Outliers Removed)'].mean())"
   ]
  },
  {
   "cell_type": "markdown",
   "id": "ded95c64-a2e1-4935-a0a6-ab9c3eaea63d",
   "metadata": {},
   "source": [
    "### 2022 - 2023"
   ]
  },
  {
   "cell_type": "code",
   "execution_count": 135,
   "id": "64001d52-d1b8-487f-9de4-7afd0290ba48",
   "metadata": {},
   "outputs": [
    {
     "name": "stdout",
     "output_type": "stream",
     "text": [
      "11.011372849439306\n",
      "8.287591672023094\n"
     ]
    }
   ],
   "source": [
    "# Mean Error\n",
    "print(OutputFrame[OutputFrame['Season']== '2022-2023']['Absolute Error'].mean())\n",
    "# Error Without Outliers\n",
    "print(OutputFrame[OutputFrame['Season']== '2022-2023']['Absolute Error (Outliers Removed)'].mean())"
   ]
  },
  {
   "cell_type": "markdown",
   "id": "44daa5f6-cc1d-43c1-901b-96e4c07f661c",
   "metadata": {},
   "source": [
    "### 2023 - 2024"
   ]
  },
  {
   "cell_type": "code",
   "execution_count": 138,
   "id": "4b42b4ae-e930-47eb-a37c-ea1c02a73bb0",
   "metadata": {},
   "outputs": [
    {
     "name": "stdout",
     "output_type": "stream",
     "text": [
      "9.767468394694406\n",
      "6.42993566979938\n"
     ]
    }
   ],
   "source": [
    "# Mean Error\n",
    "print(OutputFrame[OutputFrame['Season']== '2023-2024']['Absolute Error'].mean())\n",
    "# Error Without Outliers\n",
    "print(OutputFrame[OutputFrame['Season']== '2023-2024']['Absolute Error (Outliers Removed)'].mean())"
   ]
  },
  {
   "cell_type": "code",
   "execution_count": 140,
   "id": "e72c7385-2c16-427f-b9fb-a47b78cd02da",
   "metadata": {},
   "outputs": [
    {
     "data": {
      "text/html": [
       "<div>\n",
       "<style scoped>\n",
       "    .dataframe tbody tr th:only-of-type {\n",
       "        vertical-align: middle;\n",
       "    }\n",
       "\n",
       "    .dataframe tbody tr th {\n",
       "        vertical-align: top;\n",
       "    }\n",
       "\n",
       "    .dataframe thead th {\n",
       "        text-align: right;\n",
       "    }\n",
       "</style>\n",
       "<table border=\"1\" class=\"dataframe\">\n",
       "  <thead>\n",
       "    <tr style=\"text-align: right;\">\n",
       "      <th></th>\n",
       "      <th>Season</th>\n",
       "      <th>Team</th>\n",
       "      <th>Absolute Error</th>\n",
       "      <th>Team Points - Average Outlier Value (Above Threshold)</th>\n",
       "      <th>Team Points - Average Outlier Value (Below Threshold)</th>\n",
       "      <th>Absolute Error (Outliers Removed)</th>\n",
       "    </tr>\n",
       "  </thead>\n",
       "  <tbody>\n",
       "    <tr>\n",
       "      <th>0</th>\n",
       "      <td>2018-2019</td>\n",
       "      <td>MIL</td>\n",
       "      <td>10.813986</td>\n",
       "      <td>137.0</td>\n",
       "      <td>98.454545</td>\n",
       "      <td>6.385966</td>\n",
       "    </tr>\n",
       "  </tbody>\n",
       "</table>\n",
       "</div>"
      ],
      "text/plain": [
       "      Season Team  Absolute Error  \\\n",
       "0  2018-2019  MIL       10.813986   \n",
       "\n",
       "   Team Points - Average Outlier Value (Above Threshold)  \\\n",
       "0                                              137.0       \n",
       "\n",
       "   Team Points - Average Outlier Value (Below Threshold)  \\\n",
       "0                                          98.454545       \n",
       "\n",
       "   Absolute Error (Outliers Removed)  \n",
       "0                           6.385966  "
      ]
     },
     "execution_count": 140,
     "metadata": {},
     "output_type": "execute_result"
    }
   ],
   "source": [
    "OutputFrame[(OutputFrame['Season']== '2018-2019') & (OutputFrame['Team']== 'MIL')]"
   ]
  },
  {
   "cell_type": "code",
   "execution_count": null,
   "id": "c180e404-c031-4e17-9fac-cf21675f1c00",
   "metadata": {},
   "outputs": [],
   "source": [
    "for team in teamList:\n",
    "    TeamFrame = ResultsFrame[ResultsFrame['Team']== team]\n",
    "    "
   ]
  }
 ],
 "metadata": {
  "kernelspec": {
   "display_name": "Python [conda env:base] *",
   "language": "python",
   "name": "conda-base-py"
  },
  "language_info": {
   "codemirror_mode": {
    "name": "ipython",
    "version": 3
   },
   "file_extension": ".py",
   "mimetype": "text/x-python",
   "name": "python",
   "nbconvert_exporter": "python",
   "pygments_lexer": "ipython3",
   "version": "3.12.7"
  }
 },
 "nbformat": 4,
 "nbformat_minor": 5
}
