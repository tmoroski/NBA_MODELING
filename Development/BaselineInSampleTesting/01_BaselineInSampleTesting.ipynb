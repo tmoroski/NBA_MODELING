{
 "cells": [
  {
   "cell_type": "markdown",
   "metadata": {},
   "source": [
    "# Base line In Sample Testing - Linear Regression"
   ]
  },
  {
   "cell_type": "markdown",
   "metadata": {},
   "source": [
    "Test Type | Accuracy Score/Absolute Error\n",
    "------------- | -------------\n",
    "In Sample Testing 80/20 Split  | 91%\n",
    "2024  | 2.94\n",
    "2023 | 3.15\n",
    "2022 | 3.32\n",
    "2021 | 3.47\n",
    "2020 | 3.49"
   ]
  },
  {
   "cell_type": "markdown",
   "metadata": {},
   "source": [
    "Season |Start Date\n",
    "------------- | -------------\n",
    "In Sample Testing 80/20 Split  | 2014 - 2024\n",
    "2024  | 2023-10-25\n",
    "2023  | 2022-10-18\n",
    "2022  | 2021-10-20\n",
    "2021  | 2020-10-20\n",
    "2020  | 2019-10-20"
   ]
  },
  {
   "cell_type": "code",
   "execution_count": 2,
   "metadata": {},
   "outputs": [],
   "source": [
    "# Library Imports\n",
    "import pandas as pd\n",
    "import numpy as np\n",
    "from sklearn.linear_model import LinearRegression\n",
    "from sklearn.model_selection import train_test_split\n",
    "import warnings\n",
    "import sys\n",
    "if not sys.warnoptions:\n",
    "    warnings.simplefilter(\"ignore\")"
   ]
  },
  {
   "cell_type": "code",
   "execution_count": 4,
   "metadata": {},
   "outputs": [],
   "source": [
    "#Loading our box score dataframe\n",
    "df = pd.read_excel('../DataScience_Pipeline/RawDataFiles/combinedAdvancedRegularBoxScoreGamelogs.xlsx')\n",
    "\n",
    "dfSingle = pd.read_excel('../DataScience_Pipeline/RawDataFiles/combinedAdvancedRegularBoxScoreGamelogs.xlsx')"
   ]
  },
  {
   "cell_type": "code",
   "execution_count": 93,
   "metadata": {},
   "outputs": [],
   "source": [
    "# we need to combine the team 1 and team 2 fields into one common filed since we are going after total points as opposed to individual team points\n",
    "df['Free_Throw_Attempts'] = df['FTA_Team']+df['FTA_Opponent']\n",
    "df['Free_Throw_Make_Percentage'] = (df['FT_Perc_Team']+df['FT_Perc_Opponent'])/2\n",
    "df['Total_3_Point_Goal_Attempts'] = df['ThreePA_Team']+df['ThreePA_Opponent']\n",
    "df['Three_Point_Goal_Make_Percentage'] = df['ThreePA_Perc_Team']+df['ThreePA_Perc_Opponent']\n",
    "df['Total_2_Point_Field_Goals_Made'] = df['FG_Team']+ df['FG_Opponent'] - (df['ThreeP_Team'] + df['ThreeP_Opponent'])\n",
    "df['Total_2_Point_Goal_Attmepts'] = (df['FGA_Team']+df['FGA_Opponent'])\n",
    "df['Two_Point_Goal_Make_Percentage'] = df['Total_2_Point_Field_Goals_Made']/df['Total_2_Point_Goal_Attmepts']\n",
    "df['Offensive_EFG'] = (df['Team1_Offensive_EFG']+df['Team2_Offensive_EFG'])/2\n",
    "df['Offensive_TurnOver_Rate'] = (df['Team1_Offensive_TurnOver_Rate'] + df['Team2_Offensive_TurnOver_Rate'])/2\n",
    "df['Offensive_Rebounding_Rate'] = (df['Team1_Offensive_Rebounding_Rate'] + df['Team2_Offensive_Rebounding_Rate'])/2\n",
    "df['Defensive_Rebounding_Rate'] = (df['Team1_Defensive_Rebounding_Rate'] + df['Team2_Defensive_Rebounding_Rate'])/2\n",
    "df['Offensive_Rating'] = (df['Team1_OffensiveRating'] + df['Team2_OffensiveRating'])/2\n",
    "df['Free_Throw_Attempt_Rate'] = (df['Team1_FreeThrowAttemptRate'] + df['Team2_FreeThrowAttemptRate'])/2\n",
    "df['Three_Point_Attempt_Rate'] = (df['Team1_3PointAttemptRate'] + df['Team2_3PointAttemptRate'])/2"
   ]
  },
  {
   "cell_type": "markdown",
   "metadata": {},
   "source": [
    "### Combined Variables - Dataframe Munging"
   ]
  },
  {
   "cell_type": "code",
   "execution_count": 94,
   "metadata": {},
   "outputs": [],
   "source": [
    "# Subtracting fields from our dataframe that we dont need\n",
    "df = df[[\n",
    "        'Date',\n",
    "        'Team1',\n",
    "        'Opponent',\n",
    "        'Points_Scored',\n",
    "        'Free_Throw_Attempts',\n",
    "        'Total_3_Point_Goal_Attempts',\n",
    "        'GamePace',\n",
    "        'Offensive_EFG',\n",
    "        'Offensive_Rating'\n",
    "         \n",
    "        ]]"
   ]
  },
  {
   "cell_type": "code",
   "execution_count": 95,
   "metadata": {},
   "outputs": [],
   "source": [
    "predictors = [\n",
    "        'Free_Throw_Attempts',\n",
    "        'Total_3_Point_Goal_Attempts',\n",
    "        'GamePace',\n",
    "        'Offensive_EFG',\n",
    "        'Offensive_Rating'    \n",
    "]"
   ]
  },
  {
   "cell_type": "markdown",
   "metadata": {},
   "source": [
    "### In Sample Testing - Entire Data Set (Combined Variables)"
   ]
  },
  {
   "cell_type": "code",
   "execution_count": 1,
   "metadata": {},
   "outputs": [
    {
     "ename": "NameError",
     "evalue": "name 'train_test_split' is not defined",
     "output_type": "error",
     "traceback": [
      "\u001b[0;31m---------------------------------------------------------------------------\u001b[0m",
      "\u001b[0;31mNameError\u001b[0m                                 Traceback (most recent call last)",
      "\u001b[0;32m<ipython-input-1-2f2f721ffcde>\u001b[0m in \u001b[0;36m<module>\u001b[0;34m\u001b[0m\n\u001b[0;32m----> 1\u001b[0;31m \u001b[0mX_train\u001b[0m\u001b[0;34m,\u001b[0m \u001b[0mX_test\u001b[0m\u001b[0;34m,\u001b[0m \u001b[0my_train\u001b[0m\u001b[0;34m,\u001b[0m \u001b[0my_test\u001b[0m \u001b[0;34m=\u001b[0m \u001b[0mtrain_test_split\u001b[0m\u001b[0;34m(\u001b[0m\u001b[0mdf\u001b[0m\u001b[0;34m[\u001b[0m\u001b[0mpredictors\u001b[0m\u001b[0;34m]\u001b[0m\u001b[0;34m,\u001b[0m \u001b[0mdf\u001b[0m\u001b[0;34m[\u001b[0m\u001b[0;34m'Points_Scored'\u001b[0m\u001b[0;34m]\u001b[0m\u001b[0;34m,\u001b[0m \u001b[0mtest_size\u001b[0m\u001b[0;34m=\u001b[0m\u001b[0;36m0.20\u001b[0m\u001b[0;34m)\u001b[0m\u001b[0;34m\u001b[0m\u001b[0;34m\u001b[0m\u001b[0m\n\u001b[0m\u001b[1;32m      2\u001b[0m \u001b[0mlr\u001b[0m \u001b[0;34m=\u001b[0m \u001b[0mLinearRegression\u001b[0m\u001b[0;34m(\u001b[0m\u001b[0;34m)\u001b[0m\u001b[0;34m\u001b[0m\u001b[0;34m\u001b[0m\u001b[0m\n\u001b[1;32m      3\u001b[0m \u001b[0mlr\u001b[0m\u001b[0;34m.\u001b[0m\u001b[0mfit\u001b[0m\u001b[0;34m(\u001b[0m\u001b[0mX_train\u001b[0m\u001b[0;34m,\u001b[0m\u001b[0my_train\u001b[0m\u001b[0;34m)\u001b[0m\u001b[0;34m\u001b[0m\u001b[0;34m\u001b[0m\u001b[0m\n\u001b[1;32m      4\u001b[0m \u001b[0my_pred\u001b[0m\u001b[0;34m=\u001b[0m\u001b[0mlr\u001b[0m\u001b[0;34m.\u001b[0m\u001b[0mpredict\u001b[0m\u001b[0;34m(\u001b[0m\u001b[0mX_test\u001b[0m\u001b[0;34m)\u001b[0m\u001b[0;34m\u001b[0m\u001b[0;34m\u001b[0m\u001b[0m\n",
      "\u001b[0;31mNameError\u001b[0m: name 'train_test_split' is not defined"
     ]
    }
   ],
   "source": [
    "X_train, X_test, y_train, y_test = train_test_split(df[predictors], df['Points_Scored'], test_size=0.30)\n",
    "lr = LinearRegression()\n",
    "lr.fit(X_train,y_train)\n",
    "y_pred=lr.predict(X_test)"
   ]
  },
  {
   "cell_type": "code",
   "execution_count": 2,
   "metadata": {},
   "outputs": [
    {
     "ename": "NameError",
     "evalue": "name 'lr' is not defined",
     "output_type": "error",
     "traceback": [
      "\u001b[0;31m---------------------------------------------------------------------------\u001b[0m",
      "\u001b[0;31mNameError\u001b[0m                                 Traceback (most recent call last)",
      "\u001b[0;32m<ipython-input-2-0fd40dc799f2>\u001b[0m in \u001b[0;36m<module>\u001b[0;34m\u001b[0m\n\u001b[0;32m----> 1\u001b[0;31m \u001b[0mlr\u001b[0m\u001b[0;34m.\u001b[0m\u001b[0mscore\u001b[0m\u001b[0;34m(\u001b[0m\u001b[0mX_test\u001b[0m\u001b[0;34m,\u001b[0m\u001b[0my_test\u001b[0m\u001b[0;34m)\u001b[0m\u001b[0;34m\u001b[0m\u001b[0;34m\u001b[0m\u001b[0m\n\u001b[0m",
      "\u001b[0;31mNameError\u001b[0m: name 'lr' is not defined"
     ]
    }
   ],
   "source": [
    "lr.score(X_test,y_test)"
   ]
  },
  {
   "cell_type": "markdown",
   "metadata": {},
   "source": [
    "### In Sample Testing - Seasonal Basis (Combined Variables)"
   ]
  },
  {
   "cell_type": "code",
   "execution_count": 98,
   "metadata": {},
   "outputs": [],
   "source": [
    "# Creating our Training data set\n",
    "# THis data contains data points for the season prior to the 2024 season\n",
    "dfTraining = df[df['Date']<'2023-10-26']\n",
    "dfTraining = dfTraining[dfTraining['Date']>='2022-10-26'] # This line is not needed, just an additional way to limit the training data\n",
    "# Creating our Testing data which is the 2024 season data\n",
    "dfTesting = df[df['Date']>='2023-10-26']"
   ]
  },
  {
   "cell_type": "code",
   "execution_count": 99,
   "metadata": {},
   "outputs": [
    {
     "data": {
      "text/plain": [
       "LinearRegression()"
      ]
     },
     "execution_count": 99,
     "metadata": {},
     "output_type": "execute_result"
    }
   ],
   "source": [
    "#Creating our Test train Split on the data prior to the testing season\n",
    "#Applying the linear regression to the model\n",
    "X_train, X_test, y_train, y_test = train_test_split(dfTraining[predictors], dfTraining['Points_Scored'])\n",
    "lr = LinearRegression()\n",
    "lr.fit(X_train,y_train)"
   ]
  },
  {
   "cell_type": "code",
   "execution_count": 100,
   "metadata": {},
   "outputs": [],
   "source": [
    "# Creating our predictions\n",
    "y_pred=lr.predict(dfTesting[predictors])"
   ]
  },
  {
   "cell_type": "code",
   "execution_count": 101,
   "metadata": {},
   "outputs": [],
   "source": [
    "# Creting a dataframe column for our predictions\n",
    "dfTesting['Predictions'] = y_pred\n",
    "# Determining the error between the points scored and the predictions\n",
    "dfTesting['AbsoluteError'] = abs(dfTesting['Points_Scored'] - dfTesting['Predictions'])"
   ]
  },
  {
   "cell_type": "code",
   "execution_count": 102,
   "metadata": {},
   "outputs": [
    {
     "data": {
      "text/plain": [
       "2.924334489965767"
      ]
     },
     "execution_count": 102,
     "metadata": {},
     "output_type": "execute_result"
    }
   ],
   "source": [
    "# Finding the mean absolute error\n",
    "dfTesting['AbsoluteError'].mean()"
   ]
  },
  {
   "cell_type": "markdown",
   "metadata": {},
   "source": [
    "### Single Team Features - Dataframe Munging"
   ]
  },
  {
   "cell_type": "code",
   "execution_count": 46,
   "metadata": {},
   "outputs": [],
   "source": [
    "#Loading our team level regular box score dataframe\n",
    "regularBoxScoreDF = pd.read_excel('../DataScience_Pipeline/RawDataFiles/teamRegularBoxScoreGamelogs.xlsx')\n",
    "#Loading our team level advanced box score dataframe\n",
    "advancedBoxScoreDF = pd.read_excel('../DataScience_Pipeline/RawDataFiles/teamAdvancedBoxScoreGamelogs.xlsx')"
   ]
  },
  {
   "cell_type": "code",
   "execution_count": 47,
   "metadata": {},
   "outputs": [
    {
     "data": {
      "text/plain": [
       "Index(['Unnamed: 0', 'Game', 'Date', 'Location', 'Team', 'Opponent', 'Result',\n",
       "       'Team_Score', 'Opponent_Score', 'Offensive_EFG', 'Defensive_EFG',\n",
       "       'Offensive_TurnOver_Rate', 'Defensive_TurnOver_Rate',\n",
       "       'Offensive_Rebounding_Rate', 'Defensive_Rebounding_Rate',\n",
       "       'OffensiveRating', 'DefensiveRating', 'Pace', 'FreeThrowAttemptRate',\n",
       "       'ThreePointAttemptRate', 'TrueShootingRate'],\n",
       "      dtype='object')"
      ]
     },
     "execution_count": 47,
     "metadata": {},
     "output_type": "execute_result"
    }
   ],
   "source": [
    "advancedBoxScoreDF.columns"
   ]
  },
  {
   "cell_type": "code",
   "execution_count": 59,
   "metadata": {},
   "outputs": [],
   "source": [
    "# Subtracting fields from our regular box score dataframe that we dont need\n",
    "regularBoxScoreDF = regularBoxScoreDF[[\n",
    "    'Date',\n",
    "    'Team',\n",
    "    #'FTA',\n",
    "   # 'ThreePA',\n",
    "    'Team_Points'\n",
    "    \n",
    "]]\n",
    "# Subtracting fields from our advanced box score dataframe that we dont need\n",
    "advancedBoxScoreDF = advancedBoxScoreDF[[\n",
    "    'Date',\n",
    "    'Team',\n",
    "    'Pace',\n",
    "    'Offensive_EFG',\n",
    "    'OffensiveRating',\n",
    "    'TrueShootingRate'\n",
    "    \n",
    "]]\n",
    "\n",
    "# Team 1 DataFrame Join\n",
    "Merged_df = pd.merge(regularBoxScoreDF, advancedBoxScoreDF, on=['Date','Team'], how='left')"
   ]
  },
  {
   "cell_type": "code",
   "execution_count": 60,
   "metadata": {},
   "outputs": [],
   "source": [
    "# For this section of the testing, we will only look at Team1 as a sample\n",
    "Merged_df = Merged_df[[\n",
    "        'Date',\n",
    "        'Team',\n",
    "        'Team_Points',\n",
    "        #'FTA',\n",
    "        #'ThreePA',\n",
    "        'Pace',\n",
    "        'Offensive_EFG',\n",
    "        'OffensiveRating',\n",
    "        'TrueShootingRate'\n",
    "         \n",
    "        ]]"
   ]
  },
  {
   "cell_type": "code",
   "execution_count": 63,
   "metadata": {},
   "outputs": [],
   "source": [
    "predictorsSingle = [\n",
    "       # 'FTA',\n",
    "       # 'ThreePA',\n",
    "        'Pace',\n",
    "        'Offensive_EFG',\n",
    "        'OffensiveRating',\n",
    "        'TrueShootingRate'    \n",
    "]"
   ]
  },
  {
   "cell_type": "markdown",
   "metadata": {},
   "source": [
    "### In Sample Testing - Entire Dataset (Single Team Features)"
   ]
  },
  {
   "cell_type": "code",
   "execution_count": 64,
   "metadata": {},
   "outputs": [],
   "source": [
    "X_train, X_test, y_train, y_test = train_test_split(Merged_df[predictorsSingle], Merged_df['Team_Points'], test_size=0.30)\n",
    "lr = LinearRegression()\n",
    "lr.fit(X_train,y_train)\n",
    "y_pred=lr.predict(X_test)"
   ]
  },
  {
   "cell_type": "code",
   "execution_count": 65,
   "metadata": {},
   "outputs": [
    {
     "data": {
      "text/plain": [
       "0.9420645495098171"
      ]
     },
     "execution_count": 65,
     "metadata": {},
     "output_type": "execute_result"
    }
   ],
   "source": [
    "lr.score(X_test,y_test)"
   ]
  },
  {
   "cell_type": "markdown",
   "metadata": {},
   "source": [
    "### In Sample Testing - Seasonal Basis (Single Team Features)"
   ]
  },
  {
   "cell_type": "code",
   "execution_count": 66,
   "metadata": {},
   "outputs": [],
   "source": [
    "# Creating our Training data set\n",
    "# THis data contains data points for the season prior to the 2024 season\n",
    "dfTraining = Merged_df[Merged_df['Date']<'2023-10-26']\n",
    "# Creating our Testing data which is the 2024 season data\n",
    "dfTesting = Merged_df[Merged_df['Date']>='2023-10-26']"
   ]
  },
  {
   "cell_type": "code",
   "execution_count": 67,
   "metadata": {},
   "outputs": [
    {
     "data": {
      "text/plain": [
       "LinearRegression()"
      ]
     },
     "execution_count": 67,
     "metadata": {},
     "output_type": "execute_result"
    }
   ],
   "source": [
    "#Creating our Test train Split on the data prior to the testing season\n",
    "#Applying the linear regression to the model\n",
    "X_train, X_test, y_train, y_test = train_test_split(dfTraining[predictorsSingle], dfTraining['Team_Points'])\n",
    "lr = LinearRegression()\n",
    "lr.fit(X_train,y_train)"
   ]
  },
  {
   "cell_type": "code",
   "execution_count": 68,
   "metadata": {},
   "outputs": [],
   "source": [
    "# Creating our predictions\n",
    "y_pred=lr.predict(dfTesting[predictorsSingle])"
   ]
  },
  {
   "cell_type": "code",
   "execution_count": 69,
   "metadata": {},
   "outputs": [],
   "source": [
    "# Creting a dataframe column for our predictions\n",
    "dfTesting['Predictions'] = y_pred\n",
    "# Determining the error between the points scored and the predictions\n",
    "dfTesting['AbsoluteError'] = abs(dfTesting['Team_Points'] - dfTesting['Predictions'])"
   ]
  },
  {
   "cell_type": "code",
   "execution_count": 70,
   "metadata": {},
   "outputs": [
    {
     "data": {
      "text/plain": [
       "1.3952411127271247"
      ]
     },
     "execution_count": 70,
     "metadata": {},
     "output_type": "execute_result"
    }
   ],
   "source": [
    "# Finding the mean absolute error\n",
    "dfTesting['AbsoluteError'].mean()"
   ]
  },
  {
   "cell_type": "code",
   "execution_count": 71,
   "metadata": {},
   "outputs": [
    {
     "data": {
      "text/html": [
       "<div>\n",
       "<style scoped>\n",
       "    .dataframe tbody tr th:only-of-type {\n",
       "        vertical-align: middle;\n",
       "    }\n",
       "\n",
       "    .dataframe tbody tr th {\n",
       "        vertical-align: top;\n",
       "    }\n",
       "\n",
       "    .dataframe thead th {\n",
       "        text-align: right;\n",
       "    }\n",
       "</style>\n",
       "<table border=\"1\" class=\"dataframe\">\n",
       "  <thead>\n",
       "    <tr style=\"text-align: right;\">\n",
       "      <th></th>\n",
       "      <th>Date</th>\n",
       "      <th>Team</th>\n",
       "      <th>Team_Points</th>\n",
       "      <th>Pace</th>\n",
       "      <th>Offensive_EFG</th>\n",
       "      <th>OffensiveRating</th>\n",
       "      <th>TrueShootingRate</th>\n",
       "      <th>Predictions</th>\n",
       "      <th>AbsoluteError</th>\n",
       "    </tr>\n",
       "  </thead>\n",
       "  <tbody>\n",
       "    <tr>\n",
       "      <th>719</th>\n",
       "      <td>2023-10-26</td>\n",
       "      <td>MIL</td>\n",
       "      <td>118</td>\n",
       "      <td>101.7</td>\n",
       "      <td>0.574</td>\n",
       "      <td>116.1</td>\n",
       "      <td>0.609</td>\n",
       "      <td>118.356827</td>\n",
       "      <td>0.356827</td>\n",
       "    </tr>\n",
       "    <tr>\n",
       "      <th>720</th>\n",
       "      <td>2023-10-29</td>\n",
       "      <td>MIL</td>\n",
       "      <td>110</td>\n",
       "      <td>103.2</td>\n",
       "      <td>0.547</td>\n",
       "      <td>106.6</td>\n",
       "      <td>0.580</td>\n",
       "      <td>110.721045</td>\n",
       "      <td>0.721045</td>\n",
       "    </tr>\n",
       "    <tr>\n",
       "      <th>721</th>\n",
       "      <td>2023-10-30</td>\n",
       "      <td>MIL</td>\n",
       "      <td>122</td>\n",
       "      <td>101.5</td>\n",
       "      <td>0.575</td>\n",
       "      <td>120.2</td>\n",
       "      <td>0.609</td>\n",
       "      <td>122.159731</td>\n",
       "      <td>0.159731</td>\n",
       "    </tr>\n",
       "    <tr>\n",
       "      <th>722</th>\n",
       "      <td>2023-11-01</td>\n",
       "      <td>MIL</td>\n",
       "      <td>111</td>\n",
       "      <td>95.6</td>\n",
       "      <td>0.546</td>\n",
       "      <td>116.1</td>\n",
       "      <td>0.599</td>\n",
       "      <td>111.845716</td>\n",
       "      <td>0.845716</td>\n",
       "    </tr>\n",
       "    <tr>\n",
       "      <th>723</th>\n",
       "      <td>2023-11-03</td>\n",
       "      <td>MIL</td>\n",
       "      <td>110</td>\n",
       "      <td>97.9</td>\n",
       "      <td>0.549</td>\n",
       "      <td>112.3</td>\n",
       "      <td>0.583</td>\n",
       "      <td>110.582258</td>\n",
       "      <td>0.582258</td>\n",
       "    </tr>\n",
       "    <tr>\n",
       "      <th>...</th>\n",
       "      <td>...</td>\n",
       "      <td>...</td>\n",
       "      <td>...</td>\n",
       "      <td>...</td>\n",
       "      <td>...</td>\n",
       "      <td>...</td>\n",
       "      <td>...</td>\n",
       "      <td>...</td>\n",
       "      <td>...</td>\n",
       "    </tr>\n",
       "    <tr>\n",
       "      <th>23953</th>\n",
       "      <td>2024-04-07</td>\n",
       "      <td>GSW</td>\n",
       "      <td>118</td>\n",
       "      <td>94.1</td>\n",
       "      <td>0.609</td>\n",
       "      <td>125.4</td>\n",
       "      <td>0.623</td>\n",
       "      <td>119.170123</td>\n",
       "      <td>1.170123</td>\n",
       "    </tr>\n",
       "    <tr>\n",
       "      <th>23954</th>\n",
       "      <td>2024-04-09</td>\n",
       "      <td>GSW</td>\n",
       "      <td>134</td>\n",
       "      <td>100.1</td>\n",
       "      <td>0.750</td>\n",
       "      <td>133.8</td>\n",
       "      <td>0.751</td>\n",
       "      <td>133.547418</td>\n",
       "      <td>0.452582</td>\n",
       "    </tr>\n",
       "    <tr>\n",
       "      <th>23955</th>\n",
       "      <td>2024-04-11</td>\n",
       "      <td>GSW</td>\n",
       "      <td>100</td>\n",
       "      <td>90.9</td>\n",
       "      <td>0.545</td>\n",
       "      <td>110.0</td>\n",
       "      <td>0.583</td>\n",
       "      <td>100.775165</td>\n",
       "      <td>0.775165</td>\n",
       "    </tr>\n",
       "    <tr>\n",
       "      <th>23956</th>\n",
       "      <td>2024-04-12</td>\n",
       "      <td>GSW</td>\n",
       "      <td>109</td>\n",
       "      <td>98.5</td>\n",
       "      <td>0.541</td>\n",
       "      <td>110.6</td>\n",
       "      <td>0.572</td>\n",
       "      <td>109.579790</td>\n",
       "      <td>0.579790</td>\n",
       "    </tr>\n",
       "    <tr>\n",
       "      <th>23957</th>\n",
       "      <td>2024-04-14</td>\n",
       "      <td>GSW</td>\n",
       "      <td>123</td>\n",
       "      <td>99.1</td>\n",
       "      <td>0.553</td>\n",
       "      <td>124.1</td>\n",
       "      <td>0.591</td>\n",
       "      <td>123.447896</td>\n",
       "      <td>0.447896</td>\n",
       "    </tr>\n",
       "  </tbody>\n",
       "</table>\n",
       "<p>2432 rows × 9 columns</p>\n",
       "</div>"
      ],
      "text/plain": [
       "             Date Team  Team_Points   Pace  Offensive_EFG  OffensiveRating  \\\n",
       "719    2023-10-26  MIL          118  101.7          0.574            116.1   \n",
       "720    2023-10-29  MIL          110  103.2          0.547            106.6   \n",
       "721    2023-10-30  MIL          122  101.5          0.575            120.2   \n",
       "722    2023-11-01  MIL          111   95.6          0.546            116.1   \n",
       "723    2023-11-03  MIL          110   97.9          0.549            112.3   \n",
       "...           ...  ...          ...    ...            ...              ...   \n",
       "23953  2024-04-07  GSW          118   94.1          0.609            125.4   \n",
       "23954  2024-04-09  GSW          134  100.1          0.750            133.8   \n",
       "23955  2024-04-11  GSW          100   90.9          0.545            110.0   \n",
       "23956  2024-04-12  GSW          109   98.5          0.541            110.6   \n",
       "23957  2024-04-14  GSW          123   99.1          0.553            124.1   \n",
       "\n",
       "       TrueShootingRate  Predictions  AbsoluteError  \n",
       "719               0.609   118.356827       0.356827  \n",
       "720               0.580   110.721045       0.721045  \n",
       "721               0.609   122.159731       0.159731  \n",
       "722               0.599   111.845716       0.845716  \n",
       "723               0.583   110.582258       0.582258  \n",
       "...                 ...          ...            ...  \n",
       "23953             0.623   119.170123       1.170123  \n",
       "23954             0.751   133.547418       0.452582  \n",
       "23955             0.583   100.775165       0.775165  \n",
       "23956             0.572   109.579790       0.579790  \n",
       "23957             0.591   123.447896       0.447896  \n",
       "\n",
       "[2432 rows x 9 columns]"
      ]
     },
     "execution_count": 71,
     "metadata": {},
     "output_type": "execute_result"
    }
   ],
   "source": [
    "dfTesting"
   ]
  },
  {
   "cell_type": "code",
   "execution_count": null,
   "metadata": {},
   "outputs": [],
   "source": []
  }
 ],
 "metadata": {
  "kernelspec": {
   "display_name": "Python 3",
   "language": "python",
   "name": "python3"
  },
  "language_info": {
   "codemirror_mode": {
    "name": "ipython",
    "version": 3
   },
   "file_extension": ".py",
   "mimetype": "text/x-python",
   "name": "python",
   "nbconvert_exporter": "python",
   "pygments_lexer": "ipython3",
   "version": "3.7.3"
  }
 },
 "nbformat": 4,
 "nbformat_minor": 4
}
