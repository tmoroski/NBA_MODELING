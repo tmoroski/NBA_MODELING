{
 "cells": [
  {
   "cell_type": "markdown",
   "metadata": {},
   "source": [
    "# NBA Data Science Pipeline"
   ]
  },
  {
   "cell_type": "raw",
   "metadata": {},
   "source": [
    "\n",
    "Notebook READ ME\n",
    "\n",
    "This notebook is built to scrape regular and advanced box score gamelogs for each player along with the team level advanced game box score\n",
    "This notebook munges the three box score variations datasets together by their common game ID\n",
    "\n",
    "This dataset will be used to identify optimal parameters to be used for modeling\n",
    "\n",
    "Notebook Create date - July 7th 2024\n",
    "\n",
    "Author - T. Moroski"
   ]
  },
  {
   "cell_type": "code",
   "execution_count": 73,
   "metadata": {},
   "outputs": [],
   "source": [
    "%run ../Components/00_ProjectImports.ipynb\n",
    "%run ../Components/01_UserAgentInformation.ipynb\n",
    "%run ../Components/02_TeamAbbreviations.ipynb\n",
    "%run ../Components/03_AdvancedBoxScoreScrapper.ipynb\n",
    "%run ../Components/04_PlayerURLScrapper.ipynb\n",
    "%run ../Components/05_PlayerAdvancedBoxScoreScrapper.ipynb\n",
    "%run ../Components/06_PlayerRegularBoxScoreScrapper.ipynb\n",
    "%run ../Components/07_RegularBoxScoreScrapper.ipynb"
   ]
  },
  {
   "cell_type": "markdown",
   "metadata": {},
   "source": [
    "### Year & Team Lists"
   ]
  },
  {
   "cell_type": "code",
   "execution_count": 76,
   "metadata": {},
   "outputs": [],
   "source": [
    "# Building a dataframe to collect 14 Years worth of game data for each team\n",
    "# Building an incremental load approach to avoid running into network and connection issues\n",
    "# Creating a list to contain the years we are going to cycle through\n",
    "yearsList =[\n",
    "                '2015',\n",
    "                '2016',\n",
    "                '2017',\n",
    "                '2018',\n",
    "                '2019',\n",
    "                '2020',\n",
    "                '2021',\n",
    "                '2022',\n",
    "                '2023',\n",
    "                '2024', \n",
    "            ]\n",
    "currentYearList =['2025']\n",
    "# Can these lines be deleted??????\n",
    "teamList1 = nbaTeamList[0:4]\n",
    "teamList2 = nbaTeamList[5:9]\n",
    "teamList3 = nbaTeamList[10:14]\n",
    "teamList4 = nbaTeamList[15:19]\n",
    "teamList5 = nbaTeamList[20:24]\n",
    "teamList6 = nbaTeamList[25:30]"
   ]
  },
  {
   "cell_type": "markdown",
   "metadata": {},
   "source": [
    "### Regular Box Score Incremental Load (Team Level)"
   ]
  },
  {
   "cell_type": "markdown",
   "metadata": {},
   "source": [
    "* The subsequent code blocks load the regular box scores for all 30 of the nba teams\n",
    "* Data is being pulled for a 10 season time period, starting in 2015 and ending in 2024\n",
    "* The data is being loaded incrementally so that the nba reference call limit is not exceded. The call limit is 30 webpages per minute\n",
    "\n"
   ]
  },
  {
   "cell_type": "code",
   "execution_count": 80,
   "metadata": {},
   "outputs": [],
   "source": [
    "# Creating our empty dataframe to store all of this team data\n",
    "regularTeamBoxScoreFrame = pd.DataFrame()"
   ]
  },
  {
   "cell_type": "code",
   "execution_count": null,
   "metadata": {},
   "outputs": [],
   "source": []
  },
  {
   "cell_type": "code",
   "execution_count": 83,
   "metadata": {},
   "outputs": [
    {
     "name": "stderr",
     "output_type": "stream",
     "text": [
      "100%|██████████| 30/30 [21:19<00:00, 42.64s/it]\n"
     ]
    }
   ],
   "source": [
    "#Loading our dataframe for the first team list\n",
    "for team in tqdm(nbaTeamList):\n",
    "    for years in yearsList:\n",
    "        boxscoreDF = regularBoxScoreScraper(team,years)\n",
    "        regularTeamBoxScoreFrame = pd.concat([regularTeamBoxScoreFrame, boxscoreDF])\n",
    "        time.sleep(3)"
   ]
  },
  {
   "cell_type": "code",
   "execution_count": 85,
   "metadata": {},
   "outputs": [
    {
     "data": {
      "text/plain": [
       "(24258, 22)"
      ]
     },
     "execution_count": 85,
     "metadata": {},
     "output_type": "execute_result"
    }
   ],
   "source": [
    "regularTeamBoxScoreFrame.shape"
   ]
  },
  {
   "cell_type": "code",
   "execution_count": 87,
   "metadata": {},
   "outputs": [],
   "source": [
    "# Storing our raw team regular box score game logs to the psuedo database\n",
    "# Storing into the excel file \n",
    "regularTeamBoxScoreFrame.to_excel(\"../DataScience_Pipeline/RawDataFiles/teamRegularBoxScoreGamelogs.xlsx\")"
   ]
  },
  {
   "cell_type": "code",
   "execution_count": 89,
   "metadata": {},
   "outputs": [
    {
     "data": {
      "text/html": [
       "<div>\n",
       "<style scoped>\n",
       "    .dataframe tbody tr th:only-of-type {\n",
       "        vertical-align: middle;\n",
       "    }\n",
       "\n",
       "    .dataframe tbody tr th {\n",
       "        vertical-align: top;\n",
       "    }\n",
       "\n",
       "    .dataframe thead th {\n",
       "        text-align: right;\n",
       "    }\n",
       "</style>\n",
       "<table border=\"1\" class=\"dataframe\">\n",
       "  <thead>\n",
       "    <tr style=\"text-align: right;\">\n",
       "      <th></th>\n",
       "      <th>Date</th>\n",
       "      <th>Location</th>\n",
       "      <th>Team</th>\n",
       "      <th>Opponent</th>\n",
       "      <th>Team_Points</th>\n",
       "      <th>Opponent_Points</th>\n",
       "      <th>Points_Scored</th>\n",
       "      <th>FTA</th>\n",
       "      <th>FT_Perc</th>\n",
       "      <th>FG</th>\n",
       "      <th>...</th>\n",
       "      <th>ThreeP</th>\n",
       "      <th>ThreePA</th>\n",
       "      <th>ThreePA_Perc</th>\n",
       "      <th>Offensive_Rebounds</th>\n",
       "      <th>Total_Rebounds</th>\n",
       "      <th>Assists</th>\n",
       "      <th>Steals</th>\n",
       "      <th>Blocks</th>\n",
       "      <th>TurnOvers</th>\n",
       "      <th>Personal_Fouls</th>\n",
       "    </tr>\n",
       "  </thead>\n",
       "  <tbody>\n",
       "    <tr>\n",
       "      <th>0</th>\n",
       "      <td>2014-10-29</td>\n",
       "      <td>@</td>\n",
       "      <td>MIL</td>\n",
       "      <td>108</td>\n",
       "      <td>106</td>\n",
       "      <td>108</td>\n",
       "      <td>214</td>\n",
       "      <td>24</td>\n",
       "      <td>.875</td>\n",
       "      <td>39</td>\n",
       "      <td>...</td>\n",
       "      <td>7</td>\n",
       "      <td>14</td>\n",
       "      <td>.500</td>\n",
       "      <td>3</td>\n",
       "      <td>35</td>\n",
       "      <td>25</td>\n",
       "      <td>9</td>\n",
       "      <td>10</td>\n",
       "      <td>15</td>\n",
       "      <td>25</td>\n",
       "    </tr>\n",
       "    <tr>\n",
       "      <th>1</th>\n",
       "      <td>2014-10-31</td>\n",
       "      <td>VS</td>\n",
       "      <td>MIL</td>\n",
       "      <td>81</td>\n",
       "      <td>93</td>\n",
       "      <td>81</td>\n",
       "      <td>174</td>\n",
       "      <td>21</td>\n",
       "      <td>.571</td>\n",
       "      <td>36</td>\n",
       "      <td>...</td>\n",
       "      <td>9</td>\n",
       "      <td>24</td>\n",
       "      <td>.375</td>\n",
       "      <td>15</td>\n",
       "      <td>55</td>\n",
       "      <td>25</td>\n",
       "      <td>10</td>\n",
       "      <td>11</td>\n",
       "      <td>21</td>\n",
       "      <td>19</td>\n",
       "    </tr>\n",
       "    <tr>\n",
       "      <th>3</th>\n",
       "      <td>2014-11-01</td>\n",
       "      <td>@</td>\n",
       "      <td>MIL</td>\n",
       "      <td>108</td>\n",
       "      <td>97</td>\n",
       "      <td>108</td>\n",
       "      <td>205</td>\n",
       "      <td>24</td>\n",
       "      <td>.833</td>\n",
       "      <td>34</td>\n",
       "      <td>...</td>\n",
       "      <td>9</td>\n",
       "      <td>22</td>\n",
       "      <td>.409</td>\n",
       "      <td>16</td>\n",
       "      <td>42</td>\n",
       "      <td>18</td>\n",
       "      <td>11</td>\n",
       "      <td>3</td>\n",
       "      <td>28</td>\n",
       "      <td>28</td>\n",
       "    </tr>\n",
       "    <tr>\n",
       "      <th>4</th>\n",
       "      <td>2014-11-04</td>\n",
       "      <td>@</td>\n",
       "      <td>MIL</td>\n",
       "      <td>81</td>\n",
       "      <td>87</td>\n",
       "      <td>81</td>\n",
       "      <td>168</td>\n",
       "      <td>7</td>\n",
       "      <td>.857</td>\n",
       "      <td>37</td>\n",
       "      <td>...</td>\n",
       "      <td>7</td>\n",
       "      <td>21</td>\n",
       "      <td>.333</td>\n",
       "      <td>9</td>\n",
       "      <td>39</td>\n",
       "      <td>20</td>\n",
       "      <td>12</td>\n",
       "      <td>5</td>\n",
       "      <td>13</td>\n",
       "      <td>22</td>\n",
       "    </tr>\n",
       "    <tr>\n",
       "      <th>5</th>\n",
       "      <td>2014-11-05</td>\n",
       "      <td>VS</td>\n",
       "      <td>MIL</td>\n",
       "      <td>95</td>\n",
       "      <td>86</td>\n",
       "      <td>95</td>\n",
       "      <td>181</td>\n",
       "      <td>20</td>\n",
       "      <td>.850</td>\n",
       "      <td>33</td>\n",
       "      <td>...</td>\n",
       "      <td>3</td>\n",
       "      <td>15</td>\n",
       "      <td>.200</td>\n",
       "      <td>18</td>\n",
       "      <td>50</td>\n",
       "      <td>19</td>\n",
       "      <td>10</td>\n",
       "      <td>3</td>\n",
       "      <td>15</td>\n",
       "      <td>28</td>\n",
       "    </tr>\n",
       "  </tbody>\n",
       "</table>\n",
       "<p>5 rows × 22 columns</p>\n",
       "</div>"
      ],
      "text/plain": [
       "         Date Location Team Opponent Team_Points Opponent_Points  \\\n",
       "0  2014-10-29        @  MIL      108         106             108   \n",
       "1  2014-10-31       VS  MIL       81          93              81   \n",
       "3  2014-11-01        @  MIL      108          97             108   \n",
       "4  2014-11-04        @  MIL       81          87              81   \n",
       "5  2014-11-05       VS  MIL       95          86              95   \n",
       "\n",
       "   Points_Scored FTA FT_Perc  FG  ...  ThreeP  ThreePA ThreePA_Perc  \\\n",
       "0            214  24    .875  39  ...       7       14         .500   \n",
       "1            174  21    .571  36  ...       9       24         .375   \n",
       "3            205  24    .833  34  ...       9       22         .409   \n",
       "4            168   7    .857  37  ...       7       21         .333   \n",
       "5            181  20    .850  33  ...       3       15         .200   \n",
       "\n",
       "  Offensive_Rebounds Total_Rebounds Assists Steals Blocks TurnOvers  \\\n",
       "0                  3             35      25      9     10        15   \n",
       "1                 15             55      25     10     11        21   \n",
       "3                 16             42      18     11      3        28   \n",
       "4                  9             39      20     12      5        13   \n",
       "5                 18             50      19     10      3        15   \n",
       "\n",
       "  Personal_Fouls  \n",
       "0             25  \n",
       "1             19  \n",
       "3             28  \n",
       "4             22  \n",
       "5             28  \n",
       "\n",
       "[5 rows x 22 columns]"
      ]
     },
     "execution_count": 89,
     "metadata": {},
     "output_type": "execute_result"
    }
   ],
   "source": [
    "regularTeamBoxScoreFrame.head()"
   ]
  },
  {
   "cell_type": "markdown",
   "metadata": {},
   "source": [
    "### Combined Regular Box Score (Team Level)"
   ]
  },
  {
   "cell_type": "code",
   "execution_count": null,
   "metadata": {},
   "outputs": [],
   "source": [
    "# Define a reusable function for running SQL queries\n",
    "run_query = lambda query: sqldf(query, globals())"
   ]
  },
  {
   "cell_type": "code",
   "execution_count": null,
   "metadata": {},
   "outputs": [],
   "source": [
    "query0 ='''\n",
    "SELECT \n",
    "rtgA.Date,\n",
    "rtgA.Team,\n",
    "rtgA.Opponent,\n",
    "rtgA.Points_Scored,\n",
    "rtgA.FTA as FTA_Team,\n",
    "rtgA.FT_Perc as FT_Perc_Team,\n",
    "rtgA.FG as FG_Team,\n",
    "rtgA.FGA as FGA_Team,\n",
    "rtgA.FG_Perc as FG_Perc_Team,\n",
    "rtgA.ThreeP as ThreeP_Team,\n",
    "rtgA.ThreePA as ThreePA_Team,\n",
    "rtgA.ThreePA_Perc as ThreePA_Perc_Team,\n",
    "rtgA.Offensive_Rebounds as Offensive_Rebounds_Team,\n",
    "rtgA.Total_Rebounds as Total_Rebounds_Team,\n",
    "rtgA.Assists as Assists_Team,\n",
    "rtgA.Steals as Steals_Team,\n",
    "rtgA.Blocks as Blocks_Team,\n",
    "rtgA.TurnOvers as TurnOvers_Team,\n",
    "rtgA.Personal_Fouls as Personal_Fouls_Team,\n",
    "\n",
    "\n",
    "rtgV.FTA as FTA_Opponent,\n",
    "rtgV.FT_Perc as FT_Perc_Opponent,\n",
    "rtgV.FG as FG_Opponent,\n",
    "rtgV.FGA as FGA_Opponent,\n",
    "rtgV.FG_Perc as FG_Perc_Opponent,\n",
    "rtgV.ThreeP as ThreeP_Opponent,\n",
    "rtgV.ThreePA as ThreePA_Opponent,\n",
    "rtgV.ThreePA_Perc as ThreePA_Perc_Opponent,\n",
    "rtgV.Offensive_Rebounds as Offensive_Rebounds_Opponent,\n",
    "rtgV.Total_Rebounds as Total_Rebounds_Opponent,\n",
    "rtgV.Assists as Assists_Opponent,\n",
    "rtgV.Steals as Steals_Opponent,\n",
    "rtgV.Blocks as Blocks_Opponent,\n",
    "rtgV.TurnOvers as TurnOvers_Opponent,\n",
    "rtgV.Personal_Fouls as Personal_Fouls_Opponent\n",
    "\n",
    "FROM regularTeamBoxScoreFrame rtgA\n",
    "LEFT JOIN(\n",
    "            SELECT \n",
    "            Date,\n",
    "            Team,\n",
    "            Opponent,\n",
    "            Points_Scored,\n",
    "            FTA,\n",
    "            FT_Perc,\n",
    "            FG,\n",
    "            FGA,\n",
    "            FG_Perc,\n",
    "            ThreeP,\n",
    "            ThreePA,\n",
    "            ThreePA_Perc,\n",
    "            Offensive_Rebounds,\n",
    "            Total_Rebounds,\n",
    "            Assists,\n",
    "            Steals,\n",
    "            Blocks,\n",
    "            TurnOvers,\n",
    "            Personal_Fouls\n",
    "            FROM regularTeamBoxScoreFrame\n",
    "            WHERE Location ='VS'\n",
    "        ) rtgV\n",
    "on rtgA.Date = rtgV.Date\n",
    "and rtgA.Opponent = rtgV.Team\n",
    "where rtgA.Location ='@'\n",
    "\n",
    "'''"
   ]
  },
  {
   "cell_type": "code",
   "execution_count": null,
   "metadata": {},
   "outputs": [],
   "source": [
    "# Assigning our new combined Dataframe 11979\n",
    "result_0 = run_query(query0)\n",
    "result_0.shape"
   ]
  },
  {
   "cell_type": "code",
   "execution_count": null,
   "metadata": {},
   "outputs": [],
   "source": [
    "# Storing our raw team advacned box score game logs to the psuedo database\n",
    "# Storing into the excel file \n",
    "result_0.to_excel(\"../DataScience_Pipeline/RawDataFiles/combinedRegularBoxScoreGamelogs.xlsx\")"
   ]
  },
  {
   "cell_type": "markdown",
   "metadata": {},
   "source": [
    "### Advanced Box Score Incremental Load (Team Level)"
   ]
  },
  {
   "cell_type": "markdown",
   "metadata": {},
   "source": [
    "* The subsequent code blocks load the advanced box scores for all 30 of the nba teams\n",
    "* Data is being pulled for a 10 season time period, starting in 2015 and ending in 2024\n",
    "* The data is being loaded incrementally so that the nba reference call limit is not exceded. The call limit is 30 webpages per minute\n"
   ]
  },
  {
   "cell_type": "code",
   "execution_count": 96,
   "metadata": {},
   "outputs": [],
   "source": [
    "# Creating our empty dataframe to store all of this team data\n",
    "advancedTeamBoxScoreFrame = pd.DataFrame()"
   ]
  },
  {
   "cell_type": "code",
   "execution_count": 98,
   "metadata": {},
   "outputs": [
    {
     "name": "stderr",
     "output_type": "stream",
     "text": [
      "100%|██████████| 30/30 [18:35<00:00, 37.17s/it]\n"
     ]
    }
   ],
   "source": [
    "#Loading our dataframe for the first team list\n",
    "for team in tqdm(nbaTeamList):\n",
    "    for years in yearsList:\n",
    "        boxscoreDF = advancedBoxScoreScraper(team,years)\n",
    "        advancedTeamBoxScoreFrame = pd.concat([advancedTeamBoxScoreFrame,boxscoreDF])\n",
    "        time.sleep(3)"
   ]
  },
  {
   "cell_type": "code",
   "execution_count": 100,
   "metadata": {},
   "outputs": [
    {
     "data": {
      "text/plain": [
       "(23958, 20)"
      ]
     },
     "execution_count": 100,
     "metadata": {},
     "output_type": "execute_result"
    }
   ],
   "source": [
    "advancedTeamBoxScoreFrame.shape"
   ]
  },
  {
   "cell_type": "code",
   "execution_count": 102,
   "metadata": {},
   "outputs": [],
   "source": [
    "# Storing our raw team advacned box score game logs to the psuedo database\n",
    "# Storing into the excel file \n",
    "advancedTeamBoxScoreFrame.to_excel(\"../DataScience_Pipeline/RawDataFiles/teamAdvancedBoxScoreGamelogs.xlsx\")"
   ]
  },
  {
   "cell_type": "markdown",
   "metadata": {},
   "source": [
    "### Combined Advanced & Regular Box Score (Team Level)"
   ]
  },
  {
   "cell_type": "code",
   "execution_count": 123,
   "metadata": {},
   "outputs": [],
   "source": [
    "# Combining the two datasets to get the regular and advanced data on one sheet\n",
    "# Using a pandasql library to perform the data join\n",
    "run_query = lambda query: sqldf(query, globals())\n",
    "\n",
    "query0 = '''\n",
    "SELECT\n",
    "rg.Date,\n",
    "rg.Location,\n",
    "rg.Team,\n",
    "\n",
    "rg.Opponent,\n",
    "rg.Team_Points,\n",
    "rg.Opponent_Points,\n",
    "rg.FTA,\n",
    "rg.FT_Perc,\n",
    "rg.FG,\n",
    "rg.ThreeP,\n",
    "rg.ThreePA,\n",
    "rg.ThreePA_Perc,\n",
    "rg.Offensive_Rebounds,\n",
    "rg.Total_Rebounds,\n",
    "rg.Assists,\n",
    "rg.Steals,\n",
    "rg.Blocks,\n",
    "rg.TurnOvers,\n",
    "rg.Personal_Fouls,\n",
    "ag.Offensive_EFG,\n",
    "ag.Defensive_EFG,\n",
    "ag.Offensive_TurnOver_Rate,\n",
    "ag.Defensive_TurnOver_Rate,\n",
    "ag.Offensive_Rebounding_Rate,\n",
    "ag.Defensive_Rebounding_Rate,\n",
    "ag.OffensiveRating,\n",
    "ag.DefensiveRating,\n",
    "ag.Pace,\n",
    "ag.FreeThrowAttemptRate,\n",
    "ag.ThreePointAttemptRate,\n",
    "ag.TrueShootingRate\n",
    "FROM regularTeamBoxScoreFrame rg\n",
    "LEFT JOIN advancedTeamBoxScoreFrame ag\n",
    "on rg.Date = ag.Date\n",
    "and rg.Team = ag.Team\n",
    "\n",
    "'''"
   ]
  },
  {
   "cell_type": "code",
   "execution_count": 125,
   "metadata": {},
   "outputs": [
    {
     "data": {
      "text/plain": [
       "(24258, 31)"
      ]
     },
     "execution_count": 125,
     "metadata": {},
     "output_type": "execute_result"
    }
   ],
   "source": [
    "# Executing the query stated above\n",
    "result_0 = run_query(query0)\n",
    "result_0.shape"
   ]
  },
  {
   "cell_type": "code",
   "execution_count": 128,
   "metadata": {},
   "outputs": [],
   "source": [
    "# Storing our raw team advacned box score game logs to the psuedo database\n",
    "# Storing into the excel file \n",
    "result_0.to_excel(\"../DataScience_Pipeline/RawDataFiles/combinedAdvancedRegularBoxScoreGamelogs.xlsx\")"
   ]
  },
  {
   "cell_type": "markdown",
   "metadata": {},
   "source": [
    "### Combined Advanced Box Score (Team Level)"
   ]
  },
  {
   "cell_type": "code",
   "execution_count": null,
   "metadata": {},
   "outputs": [],
   "source": [
    "# Define a reusable function for running SQL queries\n",
    "run_query = lambda query: sqldf(query, globals())"
   ]
  },
  {
   "cell_type": "code",
   "execution_count": null,
   "metadata": {},
   "outputs": [],
   "source": [
    "query1 = '''\n",
    "SELECT\n",
    "    advA.Date,\n",
    "    advA.Team as Team1,\n",
    "    advA.Opponent as Team2,\n",
    "    advA.Team_Score as Team1_Points,\n",
    "    advA.Opponent_Score as Team2_Points,\n",
    "    advA.Team_Score + advA.Opponent_Score as Total_Points,\n",
    "    advA.Pace as GamePace,\n",
    "    advA.Offensive_EFG as Team1_Offensive_EFG,\n",
    "    advA.Offensive_TurnOver_Rate as Team1_Offensive_TurnOver_Rate,\n",
    "    advA.Offensive_Rebounding_Rate as Team1_Offensive_Rebounding_Rate,\n",
    "    advA.Defensive_Rebounding_Rate as Team1_Defensive_Rebounding_Rate,\n",
    "    advA.OffensiveRating as Team1_OffensiveRating,\n",
    "    advA.FreeThrowAttemptRate as Team1_FreeThrowAttemptRate,\n",
    "    advA.ThreePointAttemptRate as Team1_3PointAttemptRate,\n",
    "    advV.Team2_Offensive_EFG,\n",
    "    advV.Team2_Offensive_TurnOver_Rate,\n",
    "    advV.Team2_Offensive_Rebounding_Rate,\n",
    "    advV.Team2_Defensive_Rebounding_Rate,\n",
    "    advV.Team2_OffensiveRating,\n",
    "    advV.Team2_FreeThrowAttemptRate,\n",
    "    advV.Team2_3PointAttemptRate\n",
    "from advancedTeamBoxScoreFrame advA\n",
    "LEFT JOIN(\n",
    "            SELECT \n",
    "                Date,\n",
    "                Team as Team1,\n",
    "                Opponent as Team2,\n",
    "                Team_Score as Team1_Points,\n",
    "                Opponent_Score as Team2_Points,\n",
    "               -- Team_Score + adva.Opponent_Score as Total_Points,\n",
    "                Pace as GamePace,\n",
    "                Offensive_EFG as Team2_Offensive_EFG,\n",
    "                Offensive_TurnOver_Rate as Team2_Offensive_TurnOver_Rate,\n",
    "                Offensive_Rebounding_Rate as Team2_Offensive_Rebounding_Rate,\n",
    "                Defensive_Rebounding_Rate as Team2_Defensive_Rebounding_Rate,\n",
    "                OffensiveRating as Team2_OffensiveRating,\n",
    "                DefensiveRating as Team2_DefensiveRating,\n",
    "                FreeThrowAttemptRate as Team2_FreeThrowAttemptRate,\n",
    "                ThreePointAttemptRate as Team2_3PointAttemptRate\n",
    "            from advancedTeamBoxScoreFrame\n",
    "            where Location = 'VS'\n",
    "            )advV\n",
    "on  advA.Date = advV.Date\n",
    "and\n",
    "    advA.Opponent = advV.Team1\n",
    "    \n",
    "where advA.Location = '@';\n",
    "'''"
   ]
  },
  {
   "cell_type": "code",
   "execution_count": null,
   "metadata": {},
   "outputs": [],
   "source": [
    "# Assigning our new combined Dataframe 11979\n",
    "result_1 = run_query(query1)\n",
    "result_1.shape"
   ]
  },
  {
   "cell_type": "code",
   "execution_count": null,
   "metadata": {},
   "outputs": [],
   "source": [
    "# Storing our raw team advacned box score game logs to the psuedo database\n",
    "# Storing into the excel file \n",
    "result_1.to_excel(\"../DataScience_Pipeline/RawDataFiles/combinedAdvancedBoxScoreGamelogs.xlsx\")"
   ]
  },
  {
   "cell_type": "markdown",
   "metadata": {},
   "source": [
    "### Active Player List Incremental Load"
   ]
  },
  {
   "cell_type": "markdown",
   "metadata": {},
   "source": [
    "* The subsequent code blocks loads our active player list for all 30 of the nba teams\n",
    "* A player is considered active if the are on the roster and the end of the most recent season\n",
    "* The data is being loaded incrementally so that the nba reference call limit is not exceded. The call limit is 30 webpages per minute\n"
   ]
  },
  {
   "cell_type": "code",
   "execution_count": null,
   "metadata": {},
   "outputs": [],
   "source": [
    "# Step one is building an active player list \n",
    "# To do this, we will use the most recent nba season and scrape the team rosters to build our player list\n",
    "activePlayerList = []\n",
    "\n",
    "# For our incremental load we will use the team lists defined above"
   ]
  },
  {
   "cell_type": "code",
   "execution_count": null,
   "metadata": {},
   "outputs": [],
   "source": [
    "#Loading our dataframe for the first team list\n",
    "for team in tqdm(nbaTeamList):\n",
    "    playerList = playerWebPageLinkScraper(team,'2024')\n",
    "    for player in playerList:\n",
    "        activePlayerList.append(player)\n",
    "    time.sleep(3)"
   ]
  },
  {
   "cell_type": "code",
   "execution_count": null,
   "metadata": {},
   "outputs": [],
   "source": [
    "# We want to store this list into our psuedo database\n",
    "# before doing so, well need to convert the list into a dataframe\n",
    "activePlayerdf = pd.DataFrame(activePlayerList, columns=['Player_Webpage'])\n",
    "# Storing into the excel file \n",
    "activePlayerdf.to_excel(\"../DataScience_Pipeline/RawDataFiles/activePlayerList.xlsx\")"
   ]
  },
  {
   "cell_type": "markdown",
   "metadata": {},
   "source": [
    "### Advanced Box Score Incremental Load (Player Level)"
   ]
  },
  {
   "cell_type": "markdown",
   "metadata": {},
   "source": [
    "* The subsequent code blocks load the advanced box scores for all active players\n",
    "* Data is being pulled for a 10 season time period, starting in 2015 and ending in 2024\n",
    "* The data is being loaded incrementally so that the nba reference call limit is not exceded. The call limit is 30 webpages per minute\n"
   ]
  },
  {
   "cell_type": "code",
   "execution_count": null,
   "metadata": {},
   "outputs": [],
   "source": [
    "# for every player in our active player list, we need to grab the last 10 years worth of their data\n",
    "# with 550 players will need to build a function to execute the load\n",
    "\n",
    "#player load executer function call\n",
    "def playerLoadExecuter(playerURL):\n",
    "    '''\n",
    "    INPUTS:\n",
    "    playerURL - This is a list of strings input\n",
    "              - This is the url list that leads to the players web page on nba reference\n",
    "    OUTPUT:\n",
    "    playerGamelogFrame - Dataframe contain players game logs\n",
    "    '''\n",
    "    playerGamelogFrame = pd.DataFrame()\n",
    "    years = ['2023','2024']\n",
    "    for url in tqdm(playerURL):\n",
    "        for year in years:\n",
    "            try:\n",
    "                loadFrame = playerAdvancedBoxScoreScraper(url,year)\n",
    "                playerGamelogFrame = playerGamelogFrame.append(loadFrame)\n",
    "                time.sleep(3)\n",
    "            except:\n",
    "                #print('Load Failure occured')\n",
    "                time.sleep(3)\n",
    "    return playerGamelogFrame"
   ]
  },
  {
   "cell_type": "code",
   "execution_count": null,
   "metadata": {},
   "outputs": [],
   "source": [
    "Result1.shape"
   ]
  },
  {
   "cell_type": "code",
   "execution_count": null,
   "metadata": {},
   "outputs": [],
   "source": [
    "Result1 = playerLoadExecuter(list(activePlayerdf['Player_Webpage']))"
   ]
  },
  {
   "cell_type": "code",
   "execution_count": null,
   "metadata": {},
   "outputs": [],
   "source": [
    "Result1.to_excel(\"../DataScience_Pipeline/RawDataFiles/PlayerAdvacnedBoxScoreHistory.xlsx\")"
   ]
  },
  {
   "cell_type": "markdown",
   "metadata": {},
   "source": [
    "### Regular Box Score Incremental Load (Player Level)"
   ]
  },
  {
   "cell_type": "markdown",
   "metadata": {},
   "source": [
    "* The subsequent code blocks load the regular box scores for all active players\n",
    "* Data is being pulled for a 10 season time period, starting in 2015 and ending in 2024\n",
    "* The data is being loaded incrementally so that the nba reference call limit is not exceded. The call limit is 30 webpages per minute\n"
   ]
  },
  {
   "cell_type": "code",
   "execution_count": null,
   "metadata": {},
   "outputs": [],
   "source": [
    "# for every player in our active player list, we need to grab the last 10 years worth of their data\n",
    "# with 550 players will need to build a function to execute the load\n",
    "\n",
    "#player load executer function call\n",
    "def playerRegularBoxScoreLoadExecuter(playerURL):\n",
    "    '''\n",
    "    INPUTS:\n",
    "    playerURL - This is a list of strings input\n",
    "              - This is the url list that leads to the players web page on nba reference\n",
    "    OUTPUT:\n",
    "    playerGamelogFrame - Dataframe contain players game logs\n",
    "    '''\n",
    "    playerGamelogFrame = pd.DataFrame()\n",
    "    years = ['2023','2024']\n",
    "    for url in tqdm(playerURL):\n",
    "        for year in years:\n",
    "            try:\n",
    "                loadFrame = playerRegularBoxScoreScraper(url,year)\n",
    "                playerGamelogFrame = playerGamelogFrame.append(loadFrame)\n",
    "                time.sleep(3)\n",
    "            except:\n",
    "                #print('Load Failure occured')\n",
    "                time.sleep(3)\n",
    "    return playerGamelogFrame"
   ]
  },
  {
   "cell_type": "code",
   "execution_count": null,
   "metadata": {},
   "outputs": [],
   "source": [
    "Result1r.shape"
   ]
  },
  {
   "cell_type": "code",
   "execution_count": null,
   "metadata": {},
   "outputs": [],
   "source": [
    "Result1r = playerRegularBoxScoreLoadExecuter(list(activePlayerdf['Player_Webpage']))"
   ]
  },
  {
   "cell_type": "code",
   "execution_count": null,
   "metadata": {},
   "outputs": [],
   "source": [
    "Result1r.to_excel(\"../DataScience_Pipeline/RawDataFiles/PlayerRegularBoxScoreHistory.xlsx\")"
   ]
  },
  {
   "cell_type": "code",
   "execution_count": null,
   "metadata": {},
   "outputs": [],
   "source": []
  },
  {
   "cell_type": "code",
   "execution_count": null,
   "metadata": {},
   "outputs": [],
   "source": []
  },
  {
   "cell_type": "code",
   "execution_count": null,
   "metadata": {},
   "outputs": [],
   "source": []
  },
  {
   "cell_type": "code",
   "execution_count": null,
   "metadata": {},
   "outputs": [],
   "source": []
  },
  {
   "cell_type": "code",
   "execution_count": null,
   "metadata": {},
   "outputs": [],
   "source": []
  }
 ],
 "metadata": {
  "kernelspec": {
   "display_name": "Python [conda env:base] *",
   "language": "python",
   "name": "conda-base-py"
  },
  "language_info": {
   "codemirror_mode": {
    "name": "ipython",
    "version": 3
   },
   "file_extension": ".py",
   "mimetype": "text/x-python",
   "name": "python",
   "nbconvert_exporter": "python",
   "pygments_lexer": "ipython3",
   "version": "3.12.7"
  }
 },
 "nbformat": 4,
 "nbformat_minor": 4
}
