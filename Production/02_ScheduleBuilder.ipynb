{
 "cells": [
  {
   "cell_type": "markdown",
   "id": "3b0269de-d4e9-4520-bc2c-76ba773377a9",
   "metadata": {},
   "source": [
    "# NBA Schedule Builder"
   ]
  },
  {
   "cell_type": "code",
   "execution_count": 2,
   "id": "078c844e-9879-4110-90e7-a1871cd577d6",
   "metadata": {},
   "outputs": [],
   "source": [
    "# Establishing today's date so that we can identify the game schedule to reference\n",
    "today = date.today()\n",
    "\n",
    "todays_date = today.strftime(\"%b %#d, %Y\")"
   ]
  },
  {
   "cell_type": "code",
   "execution_count": 3,
   "id": "e246a61e-cdbc-41a6-aa70-e449b55a20d2",
   "metadata": {},
   "outputs": [],
   "source": [
    "if today.strftime(\"%b\") == 'Oct':\n",
    "    url = 'https://www.basketball-reference.com/leagues/NBA_2025_games-october.html'\n",
    "elif today.strftime(\"%b\") == 'Nov':\n",
    "    url = 'https://www.basketball-reference.com/leagues/NBA_2025_games-november.html'\n",
    "elif today.strftime(\"%b\") == 'Dec':\n",
    "    url = 'https://www.basketball-reference.com/leagues/NBA_2025_games-december.html'\n",
    "elif today.strftime(\"%b\") == 'Jan':\n",
    "    url = 'https://www.basketball-reference.com/leagues/NBA_2025_games-january.html'\n",
    "elif today.strftime(\"%b\") == 'Feb':\n",
    "    url = 'https://www.basketball-reference.com/leagues/NBA_2025_games-february.html'\n",
    "elif today.strftime(\"%b\") == 'Mar':\n",
    "    url = 'https://www.basketball-reference.com/leagues/NBA_2025_games-march.html'   \n",
    "elif today.strftime(\"%b\") == 'Apr':\n",
    "    url = 'https://www.basketball-reference.com/leagues/NBA_2025_games-april.html'\n",
    "elif today.strftime(\"%b\") == 'May':\n",
    "    url = 'https://www.basketball-reference.com/leagues/NBA_2025_games-may.html'\n",
    "elif today.strftime(\"%b\") == 'Jun':\n",
    "    url = 'https://www.basketball-reference.com/leagues/NBA_2025_games-june.html'"
   ]
  },
  {
   "cell_type": "code",
   "execution_count": 4,
   "id": "f29b2787-b73f-420c-b68c-9d979ffb28e5",
   "metadata": {},
   "outputs": [],
   "source": [
    "# This code block is reaching out the selected url to grab today's basketball schedule\n",
    "data = pd.read_html(url)\n",
    "table = data[0]\n",
    "table['Date'] = table['Date'].str[5:]\n",
    "todaytable = table[['Date','Start (ET)','Visitor/Neutral','Home/Neutral','Arena']]\n",
    "todaytable = todaytable[todaytable.Date == todays_date]"
   ]
  },
  {
   "cell_type": "code",
   "execution_count": 5,
   "id": "beb7d2dd-34cf-44c4-b0a5-2783b6d8e2bc",
   "metadata": {},
   "outputs": [],
   "source": [
    "teamList = todaytable['Visitor/Neutral'].to_list() + todaytable['Home/Neutral'].to_list()"
   ]
  },
  {
   "cell_type": "code",
   "execution_count": 6,
   "id": "34477dd4-7d01-4198-bdfa-e21f8cf9552c",
   "metadata": {},
   "outputs": [],
   "source": [
    "mappingDict = {\n",
    "                'Miami Heat':'MIA',\n",
    "                'Philadelphia 76ers':'PHI',\n",
    "                'Milwaukee Bucks':'MIL',\n",
    "                'Indiana Pacers':'IND',\n",
    "                'Boston Celtics':'BOS',\n",
    "                'Cleveland Cavaliers':'CLE',\n",
    "                'Atlanta Hawks':'ATL',\n",
    "                'Brooklyn Nets':'BRK',\n",
    "                'New York Knicks':'NYK',\n",
    "                'Chicago Bulls':'CHI',\n",
    "                'Orlando Magic':'ORL',\n",
    "                'Toronto Raptors':'TOR',\n",
    "                'Charlotte Hornets':'CHO',\n",
    "                'Washington Wizards':'WAS',\n",
    "                'Detroit Pistons':'DET',\n",
    "                'Los Angeles Clippers':'LAC',\n",
    "                'Los Angeles Lakers':'LAL',\n",
    "                'Utah Jazz':'UTA',\n",
    "                'Phoenix Suns':'PHO',\n",
    "                'Portland Trail Blazers':'POR',\n",
    "                'Memphis Grizzlies':'MEM',\n",
    "                'Golden State Warriors':'GSW',\n",
    "                'Denver Nuggets':'DEN',\n",
    "                'Dallas Mavericks':'DAL',\n",
    "                'San Antonio Spurs':'SAS',\n",
    "                'Oklahoma City Thunder':'OKC',\n",
    "                'Sacramento Kings':'SAC',\n",
    "                'New Orleans Pelicans':'NOP',\n",
    "                'Houston Rockets':'HOU',\n",
    "                'Minnesota Timberwolves':'MIN'\n",
    "                }\n",
    "\n",
    "updatedTeamList = [mappingDict.get(n, n) for n in teamList]"
   ]
  },
  {
   "cell_type": "markdown",
   "id": "cf1a7f72-8757-45a5-b49e-e3feb60ef433",
   "metadata": {},
   "source": [
    "### End of Notebook"
   ]
  },
  {
   "cell_type": "code",
   "execution_count": null,
   "id": "54bc41e7-c4b5-4e05-928c-746350975ed4",
   "metadata": {},
   "outputs": [],
   "source": []
  }
 ],
 "metadata": {
  "kernelspec": {
   "display_name": "Python 3 (ipykernel)",
   "language": "python",
   "name": "python3"
  },
  "language_info": {
   "codemirror_mode": {
    "name": "ipython",
    "version": 3
   },
   "file_extension": ".py",
   "mimetype": "text/x-python",
   "name": "python",
   "nbconvert_exporter": "python",
   "pygments_lexer": "ipython3",
   "version": "3.9.7"
  }
 },
 "nbformat": 4,
 "nbformat_minor": 5
}
