{
 "cells": [
  {
   "cell_type": "markdown",
   "id": "9a6e117c-490f-4503-b6db-311c8c4e9fc6",
   "metadata": {},
   "source": [
    "# Libraries and Dependencies"
   ]
  },
  {
   "cell_type": "code",
   "execution_count": 3,
   "id": "b6f11c6e-c957-4b61-b3ce-73c9275d94b6",
   "metadata": {},
   "outputs": [],
   "source": [
    "import pandas as pd\n",
    "import numpy as np\n",
    "import requests\n",
    "from urllib.request import urlopen\n",
    "from bs4 import BeautifulSoup\n",
    "import random\n",
    "import random as rnd\n",
    "from sklearn.linear_model import LinearRegression\n",
    "from sklearn.model_selection import train_test_split\n",
    "import statistics\n",
    "from random_user_agent.user_agent import UserAgent\n",
    "from random_user_agent.params import SoftwareName, OperatingSystem\n",
    "import time\n",
    "from tqdm import tqdm\n",
    "from datetime import date\n",
    "import sys\n",
    "import warnings\n",
    "\n",
    "if not sys.warnoptions:\n",
    "    warnings.simplefilter(\"ignore\")"
   ]
  },
  {
   "cell_type": "markdown",
   "id": "b218605d-c2af-4baf-9a7c-150ed5003aeb",
   "metadata": {},
   "source": [
    "### User Agent Information"
   ]
  },
  {
   "cell_type": "code",
   "execution_count": 4,
   "id": "f30fcbb9-220b-4a58-bbe8-e51962395638",
   "metadata": {},
   "outputs": [],
   "source": [
    "software_names = [SoftwareName.FIREFOX.value]\n",
    "operating_systems = [OperatingSystem.MAC.value, OperatingSystem.MAC.value]\n",
    "user_agent_rotator = UserAgent(software_names=software_names, operating_systems=operating_systems, limit=30)\n",
    "user_agent = user_agent_rotator.get_random_user_agent()"
   ]
  },
  {
   "cell_type": "markdown",
   "id": "c74bf342-8d1d-4f84-a5bb-8c8dc9465f62",
   "metadata": {},
   "source": [
    "### End of Notebook"
   ]
  }
 ],
 "metadata": {
  "kernelspec": {
   "display_name": "Python 3 (ipykernel)",
   "language": "python",
   "name": "python3"
  },
  "language_info": {
   "codemirror_mode": {
    "name": "ipython",
    "version": 3
   },
   "file_extension": ".py",
   "mimetype": "text/x-python",
   "name": "python",
   "nbconvert_exporter": "python",
   "pygments_lexer": "ipython3",
   "version": "3.9.7"
  }
 },
 "nbformat": 4,
 "nbformat_minor": 5
}
